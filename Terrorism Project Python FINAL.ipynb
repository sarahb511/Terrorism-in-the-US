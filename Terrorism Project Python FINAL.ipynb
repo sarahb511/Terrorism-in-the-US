{
 "cells": [
  {
   "cell_type": "markdown",
   "metadata": {},
   "source": [
    "## Final Project: Terrorism in the US"
   ]
  },
  {
   "cell_type": "markdown",
   "metadata": {},
   "source": [
    "**Dataset:** Global Terrorism Database <br>\n",
    "**Source:** University of Maryland, \"45 Years of Terrorism: Terrorist violence that occurred worldwide between 1970 and 2015.\" <br>\n",
    "Retrieved from: https://www.start.umd.edu/gtd/\n"
   ]
  },
  {
   "cell_type": "code",
   "execution_count": 1,
   "metadata": {},
   "outputs": [],
   "source": [
    "import pandas as pd\n",
    "import numpy as np\n",
    "import matplotlib.pyplot as plt \n",
    "%matplotlib inline"
   ]
  },
  {
   "cell_type": "code",
   "execution_count": 2,
   "metadata": {},
   "outputs": [],
   "source": [
    "df = pd.read_csv(\"C:\\\\Users\\\\sbortnem\\\\Desktop\\\\Summer 2019\\\\APAN 5210 - Python\\\\Final Project\\\\gtd\\\\globalterrorism.csv\", encoding='ISO-8859-1',\n",
    "                 usecols = [0,1,2,3,7,8,11,12,13,14,18,26,27,28,29,30,31,34,35,36,37,40,41,58,81,82,83,84,97,98,101],\n",
    "                low_memory = False)\n",
    "\n",
    "df = df.rename(\n",
    "    columns={'eventid':'id', 'iyear':'year', 'imonth':'month', 'iday':'day', 'country':'country_code',\n",
    "             'country_txt':'country', 'provstate':'state', 'attacktype1':'attack_type_code',\n",
    "             'attacktype1_txt':'attack_type', 'attacktype2':'attack_type2_code', 'attacktype2_txt':'attack_type2',\n",
    "             'targtype1':'target_type_code', 'targtype1_txt':'target',\n",
    "             'targsubtype1' : 'target_subtype_code', 'targsubtype1_txt' : 'target_subtype',\n",
    "             'natlty1':'nationality_code', 'natlty1_txt':'nationality', 'gname':'group_name',\n",
    "             'weaptype1':'weapon_code','weaptype1_txt':'weapon', 'weapsubtype1':'weapon_subtype_code',\n",
    "             'weapsubtype1_txt':'weapon_subtype', 'weapdetail':'weapon_detail',\n",
    "             'nkill':'fatalities','nwound':'wounded', })"
   ]
  },
  {
   "cell_type": "code",
   "execution_count": 3,
   "metadata": {},
   "outputs": [
    {
     "data": {
      "text/plain": [
       "(181691, 31)"
      ]
     },
     "execution_count": 3,
     "metadata": {},
     "output_type": "execute_result"
    }
   ],
   "source": [
    "df.shape"
   ]
  },
  {
   "cell_type": "code",
   "execution_count": 4,
   "metadata": {},
   "outputs": [
    {
     "data": {
      "text/html": [
       "<div>\n",
       "<style scoped>\n",
       "    .dataframe tbody tr th:only-of-type {\n",
       "        vertical-align: middle;\n",
       "    }\n",
       "\n",
       "    .dataframe tbody tr th {\n",
       "        vertical-align: top;\n",
       "    }\n",
       "\n",
       "    .dataframe thead th {\n",
       "        text-align: right;\n",
       "    }\n",
       "</style>\n",
       "<table border=\"1\" class=\"dataframe\">\n",
       "  <thead>\n",
       "    <tr style=\"text-align: right;\">\n",
       "      <th></th>\n",
       "      <th>id</th>\n",
       "      <th>year</th>\n",
       "      <th>month</th>\n",
       "      <th>day</th>\n",
       "      <th>country_code</th>\n",
       "      <th>country</th>\n",
       "      <th>state</th>\n",
       "      <th>city</th>\n",
       "      <th>latitude</th>\n",
       "      <th>longitude</th>\n",
       "      <th>...</th>\n",
       "      <th>nationality_code</th>\n",
       "      <th>nationality</th>\n",
       "      <th>group_name</th>\n",
       "      <th>weapon_code</th>\n",
       "      <th>weapon</th>\n",
       "      <th>weapon_subtype_code</th>\n",
       "      <th>weapon_subtype</th>\n",
       "      <th>weapon_detail</th>\n",
       "      <th>fatalities</th>\n",
       "      <th>wounded</th>\n",
       "    </tr>\n",
       "  </thead>\n",
       "  <tbody>\n",
       "    <tr>\n",
       "      <th>0</th>\n",
       "      <td>1.970000e+11</td>\n",
       "      <td>1970</td>\n",
       "      <td>7</td>\n",
       "      <td>2</td>\n",
       "      <td>58</td>\n",
       "      <td>Dominican Republic</td>\n",
       "      <td>NaN</td>\n",
       "      <td>Santo Domingo</td>\n",
       "      <td>18.456792</td>\n",
       "      <td>-69.951164</td>\n",
       "      <td>...</td>\n",
       "      <td>58.0</td>\n",
       "      <td>Dominican Republic</td>\n",
       "      <td>MANO-D</td>\n",
       "      <td>13</td>\n",
       "      <td>Unknown</td>\n",
       "      <td>NaN</td>\n",
       "      <td>NaN</td>\n",
       "      <td>NaN</td>\n",
       "      <td>1.0</td>\n",
       "      <td>0.0</td>\n",
       "    </tr>\n",
       "    <tr>\n",
       "      <th>1</th>\n",
       "      <td>1.970000e+11</td>\n",
       "      <td>1970</td>\n",
       "      <td>0</td>\n",
       "      <td>0</td>\n",
       "      <td>130</td>\n",
       "      <td>Mexico</td>\n",
       "      <td>Federal</td>\n",
       "      <td>Mexico city</td>\n",
       "      <td>19.371887</td>\n",
       "      <td>-99.086624</td>\n",
       "      <td>...</td>\n",
       "      <td>21.0</td>\n",
       "      <td>Belgium</td>\n",
       "      <td>23rd of September Communist League</td>\n",
       "      <td>13</td>\n",
       "      <td>Unknown</td>\n",
       "      <td>NaN</td>\n",
       "      <td>NaN</td>\n",
       "      <td>NaN</td>\n",
       "      <td>0.0</td>\n",
       "      <td>0.0</td>\n",
       "    </tr>\n",
       "    <tr>\n",
       "      <th>2</th>\n",
       "      <td>1.970010e+11</td>\n",
       "      <td>1970</td>\n",
       "      <td>1</td>\n",
       "      <td>0</td>\n",
       "      <td>160</td>\n",
       "      <td>Philippines</td>\n",
       "      <td>Tarlac</td>\n",
       "      <td>Unknown</td>\n",
       "      <td>15.478598</td>\n",
       "      <td>120.599741</td>\n",
       "      <td>...</td>\n",
       "      <td>217.0</td>\n",
       "      <td>United States</td>\n",
       "      <td>Unknown</td>\n",
       "      <td>13</td>\n",
       "      <td>Unknown</td>\n",
       "      <td>NaN</td>\n",
       "      <td>NaN</td>\n",
       "      <td>NaN</td>\n",
       "      <td>1.0</td>\n",
       "      <td>0.0</td>\n",
       "    </tr>\n",
       "    <tr>\n",
       "      <th>3</th>\n",
       "      <td>1.970010e+11</td>\n",
       "      <td>1970</td>\n",
       "      <td>1</td>\n",
       "      <td>0</td>\n",
       "      <td>78</td>\n",
       "      <td>Greece</td>\n",
       "      <td>Attica</td>\n",
       "      <td>Athens</td>\n",
       "      <td>37.997490</td>\n",
       "      <td>23.762728</td>\n",
       "      <td>...</td>\n",
       "      <td>217.0</td>\n",
       "      <td>United States</td>\n",
       "      <td>Unknown</td>\n",
       "      <td>6</td>\n",
       "      <td>Explosives</td>\n",
       "      <td>16.0</td>\n",
       "      <td>Unknown Explosive Type</td>\n",
       "      <td>Explosive</td>\n",
       "      <td>NaN</td>\n",
       "      <td>NaN</td>\n",
       "    </tr>\n",
       "    <tr>\n",
       "      <th>4</th>\n",
       "      <td>1.970010e+11</td>\n",
       "      <td>1970</td>\n",
       "      <td>1</td>\n",
       "      <td>0</td>\n",
       "      <td>101</td>\n",
       "      <td>Japan</td>\n",
       "      <td>Fukouka</td>\n",
       "      <td>Fukouka</td>\n",
       "      <td>33.580412</td>\n",
       "      <td>130.396361</td>\n",
       "      <td>...</td>\n",
       "      <td>217.0</td>\n",
       "      <td>United States</td>\n",
       "      <td>Unknown</td>\n",
       "      <td>8</td>\n",
       "      <td>Incendiary</td>\n",
       "      <td>NaN</td>\n",
       "      <td>NaN</td>\n",
       "      <td>Incendiary</td>\n",
       "      <td>NaN</td>\n",
       "      <td>NaN</td>\n",
       "    </tr>\n",
       "  </tbody>\n",
       "</table>\n",
       "<p>5 rows × 31 columns</p>\n",
       "</div>"
      ],
      "text/plain": [
       "             id  year  month  day  country_code             country    state  \\\n",
       "0  1.970000e+11  1970      7    2            58  Dominican Republic      NaN   \n",
       "1  1.970000e+11  1970      0    0           130              Mexico  Federal   \n",
       "2  1.970010e+11  1970      1    0           160         Philippines   Tarlac   \n",
       "3  1.970010e+11  1970      1    0            78              Greece   Attica   \n",
       "4  1.970010e+11  1970      1    0           101               Japan  Fukouka   \n",
       "\n",
       "            city   latitude   longitude  ... nationality_code  \\\n",
       "0  Santo Domingo  18.456792  -69.951164  ...             58.0   \n",
       "1    Mexico city  19.371887  -99.086624  ...             21.0   \n",
       "2        Unknown  15.478598  120.599741  ...            217.0   \n",
       "3         Athens  37.997490   23.762728  ...            217.0   \n",
       "4        Fukouka  33.580412  130.396361  ...            217.0   \n",
       "\n",
       "          nationality                          group_name  weapon_code  \\\n",
       "0  Dominican Republic                              MANO-D           13   \n",
       "1             Belgium  23rd of September Communist League           13   \n",
       "2       United States                             Unknown           13   \n",
       "3       United States                             Unknown            6   \n",
       "4       United States                             Unknown            8   \n",
       "\n",
       "       weapon  weapon_subtype_code          weapon_subtype  weapon_detail  \\\n",
       "0     Unknown                  NaN                     NaN            NaN   \n",
       "1     Unknown                  NaN                     NaN            NaN   \n",
       "2     Unknown                  NaN                     NaN            NaN   \n",
       "3  Explosives                 16.0  Unknown Explosive Type      Explosive   \n",
       "4  Incendiary                  NaN                     NaN     Incendiary   \n",
       "\n",
       "  fatalities  wounded  \n",
       "0        1.0      0.0  \n",
       "1        0.0      0.0  \n",
       "2        1.0      0.0  \n",
       "3        NaN      NaN  \n",
       "4        NaN      NaN  \n",
       "\n",
       "[5 rows x 31 columns]"
      ]
     },
     "execution_count": 4,
     "metadata": {},
     "output_type": "execute_result"
    }
   ],
   "source": [
    "df.head()"
   ]
  },
  {
   "cell_type": "code",
   "execution_count": 5,
   "metadata": {},
   "outputs": [
    {
     "data": {
      "text/plain": [
       "Index(['id', 'year', 'month', 'day', 'country_code', 'country', 'state',\n",
       "       'city', 'latitude', 'longitude', 'summary', 'success', 'suicide',\n",
       "       'attack_type_code', 'attack_type', 'attack_type2_code', 'attack_type2',\n",
       "       'target_type_code', 'target', 'target_subtype_code', 'target_subtype',\n",
       "       'nationality_code', 'nationality', 'group_name', 'weapon_code',\n",
       "       'weapon', 'weapon_subtype_code', 'weapon_subtype', 'weapon_detail',\n",
       "       'fatalities', 'wounded'],\n",
       "      dtype='object')"
      ]
     },
     "execution_count": 5,
     "metadata": {},
     "output_type": "execute_result"
    }
   ],
   "source": [
    "df.columns"
   ]
  },
  {
   "cell_type": "code",
   "execution_count": 6,
   "metadata": {},
   "outputs": [
    {
     "data": {
      "text/plain": [
       "id                     float64\n",
       "year                     int64\n",
       "month                    int64\n",
       "day                      int64\n",
       "country_code             int64\n",
       "country                 object\n",
       "state                   object\n",
       "city                    object\n",
       "latitude               float64\n",
       "longitude              float64\n",
       "summary                 object\n",
       "success                  int64\n",
       "suicide                  int64\n",
       "attack_type_code         int64\n",
       "attack_type             object\n",
       "attack_type2_code      float64\n",
       "attack_type2            object\n",
       "target_type_code         int64\n",
       "target                  object\n",
       "target_subtype_code    float64\n",
       "target_subtype          object\n",
       "nationality_code       float64\n",
       "nationality             object\n",
       "group_name              object\n",
       "weapon_code              int64\n",
       "weapon                  object\n",
       "weapon_subtype_code    float64\n",
       "weapon_subtype          object\n",
       "weapon_detail           object\n",
       "fatalities             float64\n",
       "wounded                float64\n",
       "dtype: object"
      ]
     },
     "execution_count": 6,
     "metadata": {},
     "output_type": "execute_result"
    }
   ],
   "source": [
    "df.dtypes"
   ]
  },
  {
   "cell_type": "code",
   "execution_count": 6,
   "metadata": {},
   "outputs": [
    {
     "data": {
      "text/html": [
       "<div>\n",
       "<style scoped>\n",
       "    .dataframe tbody tr th:only-of-type {\n",
       "        vertical-align: middle;\n",
       "    }\n",
       "\n",
       "    .dataframe tbody tr th {\n",
       "        vertical-align: top;\n",
       "    }\n",
       "\n",
       "    .dataframe thead th {\n",
       "        text-align: right;\n",
       "    }\n",
       "</style>\n",
       "<table border=\"1\" class=\"dataframe\">\n",
       "  <thead>\n",
       "    <tr style=\"text-align: right;\">\n",
       "      <th></th>\n",
       "      <th>id</th>\n",
       "      <th>year</th>\n",
       "      <th>month</th>\n",
       "      <th>day</th>\n",
       "      <th>country_code</th>\n",
       "      <th>latitude</th>\n",
       "      <th>longitude</th>\n",
       "      <th>success</th>\n",
       "      <th>suicide</th>\n",
       "      <th>attack_type_code</th>\n",
       "      <th>attack_type2_code</th>\n",
       "      <th>target_type_code</th>\n",
       "      <th>target_subtype_code</th>\n",
       "      <th>nationality_code</th>\n",
       "      <th>weapon_code</th>\n",
       "      <th>weapon_subtype_code</th>\n",
       "      <th>fatalities</th>\n",
       "      <th>wounded</th>\n",
       "    </tr>\n",
       "  </thead>\n",
       "  <tbody>\n",
       "    <tr>\n",
       "      <th>count</th>\n",
       "      <td>1.816910e+05</td>\n",
       "      <td>181691.000000</td>\n",
       "      <td>181691.000000</td>\n",
       "      <td>181691.000000</td>\n",
       "      <td>181691.000000</td>\n",
       "      <td>177135.000000</td>\n",
       "      <td>1.771340e+05</td>\n",
       "      <td>181691.000000</td>\n",
       "      <td>181691.000000</td>\n",
       "      <td>181691.000000</td>\n",
       "      <td>6314.000000</td>\n",
       "      <td>181691.000000</td>\n",
       "      <td>171318.000000</td>\n",
       "      <td>180132.000000</td>\n",
       "      <td>181691.000000</td>\n",
       "      <td>160923.000000</td>\n",
       "      <td>171378.000000</td>\n",
       "      <td>165380.000000</td>\n",
       "    </tr>\n",
       "    <tr>\n",
       "      <th>mean</th>\n",
       "      <td>2.002705e+11</td>\n",
       "      <td>2002.638997</td>\n",
       "      <td>6.467277</td>\n",
       "      <td>15.505644</td>\n",
       "      <td>131.968501</td>\n",
       "      <td>23.498343</td>\n",
       "      <td>-4.586957e+02</td>\n",
       "      <td>0.889598</td>\n",
       "      <td>0.036507</td>\n",
       "      <td>3.247547</td>\n",
       "      <td>3.719512</td>\n",
       "      <td>8.439719</td>\n",
       "      <td>46.971474</td>\n",
       "      <td>127.686441</td>\n",
       "      <td>6.447325</td>\n",
       "      <td>11.117162</td>\n",
       "      <td>2.403272</td>\n",
       "      <td>3.167668</td>\n",
       "    </tr>\n",
       "    <tr>\n",
       "      <th>std</th>\n",
       "      <td>1.325957e+09</td>\n",
       "      <td>13.259430</td>\n",
       "      <td>3.388303</td>\n",
       "      <td>8.814045</td>\n",
       "      <td>112.414535</td>\n",
       "      <td>18.569242</td>\n",
       "      <td>2.047790e+05</td>\n",
       "      <td>0.313391</td>\n",
       "      <td>0.187549</td>\n",
       "      <td>1.915772</td>\n",
       "      <td>2.272023</td>\n",
       "      <td>6.653838</td>\n",
       "      <td>30.953357</td>\n",
       "      <td>89.299120</td>\n",
       "      <td>2.173435</td>\n",
       "      <td>6.495612</td>\n",
       "      <td>11.545741</td>\n",
       "      <td>35.949392</td>\n",
       "    </tr>\n",
       "    <tr>\n",
       "      <th>min</th>\n",
       "      <td>1.970000e+11</td>\n",
       "      <td>1970.000000</td>\n",
       "      <td>0.000000</td>\n",
       "      <td>0.000000</td>\n",
       "      <td>4.000000</td>\n",
       "      <td>-53.154613</td>\n",
       "      <td>-8.618590e+07</td>\n",
       "      <td>0.000000</td>\n",
       "      <td>0.000000</td>\n",
       "      <td>1.000000</td>\n",
       "      <td>1.000000</td>\n",
       "      <td>1.000000</td>\n",
       "      <td>1.000000</td>\n",
       "      <td>4.000000</td>\n",
       "      <td>1.000000</td>\n",
       "      <td>1.000000</td>\n",
       "      <td>0.000000</td>\n",
       "      <td>0.000000</td>\n",
       "    </tr>\n",
       "    <tr>\n",
       "      <th>25%</th>\n",
       "      <td>1.991021e+11</td>\n",
       "      <td>1991.000000</td>\n",
       "      <td>4.000000</td>\n",
       "      <td>8.000000</td>\n",
       "      <td>78.000000</td>\n",
       "      <td>11.510046</td>\n",
       "      <td>4.545640e+00</td>\n",
       "      <td>1.000000</td>\n",
       "      <td>0.000000</td>\n",
       "      <td>2.000000</td>\n",
       "      <td>2.000000</td>\n",
       "      <td>3.000000</td>\n",
       "      <td>22.000000</td>\n",
       "      <td>83.000000</td>\n",
       "      <td>5.000000</td>\n",
       "      <td>5.000000</td>\n",
       "      <td>0.000000</td>\n",
       "      <td>0.000000</td>\n",
       "    </tr>\n",
       "    <tr>\n",
       "      <th>50%</th>\n",
       "      <td>2.009022e+11</td>\n",
       "      <td>2009.000000</td>\n",
       "      <td>6.000000</td>\n",
       "      <td>15.000000</td>\n",
       "      <td>98.000000</td>\n",
       "      <td>31.467463</td>\n",
       "      <td>4.324651e+01</td>\n",
       "      <td>1.000000</td>\n",
       "      <td>0.000000</td>\n",
       "      <td>3.000000</td>\n",
       "      <td>2.000000</td>\n",
       "      <td>4.000000</td>\n",
       "      <td>35.000000</td>\n",
       "      <td>101.000000</td>\n",
       "      <td>6.000000</td>\n",
       "      <td>12.000000</td>\n",
       "      <td>0.000000</td>\n",
       "      <td>0.000000</td>\n",
       "    </tr>\n",
       "    <tr>\n",
       "      <th>75%</th>\n",
       "      <td>2.014081e+11</td>\n",
       "      <td>2014.000000</td>\n",
       "      <td>9.000000</td>\n",
       "      <td>23.000000</td>\n",
       "      <td>160.000000</td>\n",
       "      <td>34.685087</td>\n",
       "      <td>6.871033e+01</td>\n",
       "      <td>1.000000</td>\n",
       "      <td>0.000000</td>\n",
       "      <td>3.000000</td>\n",
       "      <td>7.000000</td>\n",
       "      <td>14.000000</td>\n",
       "      <td>74.000000</td>\n",
       "      <td>173.000000</td>\n",
       "      <td>6.000000</td>\n",
       "      <td>16.000000</td>\n",
       "      <td>2.000000</td>\n",
       "      <td>2.000000</td>\n",
       "    </tr>\n",
       "    <tr>\n",
       "      <th>max</th>\n",
       "      <td>2.017123e+11</td>\n",
       "      <td>2017.000000</td>\n",
       "      <td>12.000000</td>\n",
       "      <td>31.000000</td>\n",
       "      <td>1004.000000</td>\n",
       "      <td>74.633553</td>\n",
       "      <td>1.793667e+02</td>\n",
       "      <td>1.000000</td>\n",
       "      <td>1.000000</td>\n",
       "      <td>9.000000</td>\n",
       "      <td>9.000000</td>\n",
       "      <td>22.000000</td>\n",
       "      <td>113.000000</td>\n",
       "      <td>1004.000000</td>\n",
       "      <td>13.000000</td>\n",
       "      <td>31.000000</td>\n",
       "      <td>1570.000000</td>\n",
       "      <td>8191.000000</td>\n",
       "    </tr>\n",
       "  </tbody>\n",
       "</table>\n",
       "</div>"
      ],
      "text/plain": [
       "                 id           year          month            day  \\\n",
       "count  1.816910e+05  181691.000000  181691.000000  181691.000000   \n",
       "mean   2.002705e+11    2002.638997       6.467277      15.505644   \n",
       "std    1.325957e+09      13.259430       3.388303       8.814045   \n",
       "min    1.970000e+11    1970.000000       0.000000       0.000000   \n",
       "25%    1.991021e+11    1991.000000       4.000000       8.000000   \n",
       "50%    2.009022e+11    2009.000000       6.000000      15.000000   \n",
       "75%    2.014081e+11    2014.000000       9.000000      23.000000   \n",
       "max    2.017123e+11    2017.000000      12.000000      31.000000   \n",
       "\n",
       "        country_code       latitude     longitude        success  \\\n",
       "count  181691.000000  177135.000000  1.771340e+05  181691.000000   \n",
       "mean      131.968501      23.498343 -4.586957e+02       0.889598   \n",
       "std       112.414535      18.569242  2.047790e+05       0.313391   \n",
       "min         4.000000     -53.154613 -8.618590e+07       0.000000   \n",
       "25%        78.000000      11.510046  4.545640e+00       1.000000   \n",
       "50%        98.000000      31.467463  4.324651e+01       1.000000   \n",
       "75%       160.000000      34.685087  6.871033e+01       1.000000   \n",
       "max      1004.000000      74.633553  1.793667e+02       1.000000   \n",
       "\n",
       "             suicide  attack_type_code  attack_type2_code  target_type_code  \\\n",
       "count  181691.000000     181691.000000        6314.000000     181691.000000   \n",
       "mean        0.036507          3.247547           3.719512          8.439719   \n",
       "std         0.187549          1.915772           2.272023          6.653838   \n",
       "min         0.000000          1.000000           1.000000          1.000000   \n",
       "25%         0.000000          2.000000           2.000000          3.000000   \n",
       "50%         0.000000          3.000000           2.000000          4.000000   \n",
       "75%         0.000000          3.000000           7.000000         14.000000   \n",
       "max         1.000000          9.000000           9.000000         22.000000   \n",
       "\n",
       "       target_subtype_code  nationality_code    weapon_code  \\\n",
       "count        171318.000000     180132.000000  181691.000000   \n",
       "mean             46.971474        127.686441       6.447325   \n",
       "std              30.953357         89.299120       2.173435   \n",
       "min               1.000000          4.000000       1.000000   \n",
       "25%              22.000000         83.000000       5.000000   \n",
       "50%              35.000000        101.000000       6.000000   \n",
       "75%              74.000000        173.000000       6.000000   \n",
       "max             113.000000       1004.000000      13.000000   \n",
       "\n",
       "       weapon_subtype_code     fatalities        wounded  \n",
       "count        160923.000000  171378.000000  165380.000000  \n",
       "mean             11.117162       2.403272       3.167668  \n",
       "std               6.495612      11.545741      35.949392  \n",
       "min               1.000000       0.000000       0.000000  \n",
       "25%               5.000000       0.000000       0.000000  \n",
       "50%              12.000000       0.000000       0.000000  \n",
       "75%              16.000000       2.000000       2.000000  \n",
       "max              31.000000    1570.000000    8191.000000  "
      ]
     },
     "execution_count": 6,
     "metadata": {},
     "output_type": "execute_result"
    }
   ],
   "source": [
    "df.describe()"
   ]
  },
  {
   "cell_type": "code",
   "execution_count": 7,
   "metadata": {},
   "outputs": [
    {
     "data": {
      "text/plain": [
       "1"
      ]
     },
     "execution_count": 7,
     "metadata": {},
     "output_type": "execute_result"
    }
   ],
   "source": [
    "## Subsetting only US data\n",
    "df = df[df.country == 'United States']\n",
    "df.country = df.country.astype('category')\n",
    "country_list = df.country.cat.categories.tolist()\n",
    "len(country_list)"
   ]
  },
  {
   "cell_type": "code",
   "execution_count": 8,
   "metadata": {},
   "outputs": [
    {
     "data": {
      "text/plain": [
       "id                        0\n",
       "year                      0\n",
       "month                     0\n",
       "day                       0\n",
       "country_code              0\n",
       "country                   0\n",
       "state                     4\n",
       "city                      0\n",
       "latitude                  1\n",
       "longitude                 1\n",
       "summary                1053\n",
       "success                   0\n",
       "suicide                   0\n",
       "attack_type_code          0\n",
       "attack_type               0\n",
       "attack_type2_code      2785\n",
       "attack_type2           2785\n",
       "target_type_code          0\n",
       "target                    0\n",
       "target_subtype_code     120\n",
       "target_subtype          120\n",
       "nationality_code          9\n",
       "nationality               9\n",
       "group_name                0\n",
       "weapon_code               0\n",
       "weapon                    0\n",
       "weapon_subtype_code     259\n",
       "weapon_subtype          259\n",
       "weapon_detail           544\n",
       "fatalities               73\n",
       "wounded                  93\n",
       "dtype: int64"
      ]
     },
     "execution_count": 8,
     "metadata": {},
     "output_type": "execute_result"
    }
   ],
   "source": [
    "## Checking for NAs\n",
    "nnull = df.isnull()\n",
    "nnull.sum()"
   ]
  },
  {
   "cell_type": "code",
   "execution_count": 9,
   "metadata": {},
   "outputs": [],
   "source": [
    "## Imputing NAs\n",
    "#States\n",
    "df[df.state.isnull()]\n",
    "df.loc[df['id'] == 199512080005,'state'] = 'New York'\n",
    "df.loc[df['id'] == 197209280011,'state'] = 'District of Columbia'\n",
    "df.loc[df['id'] == 201701070015,'state'] = 'Texas'\n",
    "df.loc[df['id'] == 201702060025,'state'] = 'New Hampshire'\n",
    "\n",
    "#Longitude, latitude (among other missing values) - 1 affected row\n",
    "df[df.longitude.isnull()]\n",
    "df = df.loc[df['id'] != 197601010002] #removing the affected row due to limited data\n",
    "\n",
    "#Summary\n",
    "df.summary = df.summary.fillna('No Summary').astype(object)\n",
    "\n",
    "#Attack type 2 - based on unknown values in existing records\n",
    "df.attack_type2_code = df.attack_type2_code.fillna(9).astype(int)\n",
    "df.attack_type2 = df.attack_type2.fillna('Unknown').astype(object)\n",
    "\n",
    "#Target subtype - based on unknown values in existing records\n",
    "df.target_subtype_code = df.target_subtype_code.fillna(20).astype(int)\n",
    "df.target_subtype = df.target_subtype.fillna('Unknown').astype(object)\n",
    "\n",
    "#Weapon subtype and detail - based on unknown values in existing records\n",
    "df.weapon_subtype_code = df.weapon_subtype_code.fillna(13).astype(int)\n",
    "df.weapon_subtype = df.weapon_subtype.fillna('Unknown').astype(object)\n",
    "df.weapon_detail = df.weapon_detail.fillna('Unknown').astype(object)\n",
    "\n",
    "#Nationality - creating an \"Unknown\" value\n",
    "df.nationality_code = df.nationality_code.fillna(0).astype(int)\n",
    "df.nationality = df.nationality.fillna('Unknown').astype(object)\n",
    "\n",
    "#Fatalities\n",
    "df.fatalities = df.fatalities.fillna(0).astype(int)\n",
    "\n",
    "#Wounded\n",
    "df.wounded = df.wounded.fillna(0).astype(int)"
   ]
  },
  {
   "cell_type": "code",
   "execution_count": 10,
   "metadata": {},
   "outputs": [
    {
     "data": {
      "text/plain": [
       "id                     0\n",
       "year                   0\n",
       "month                  0\n",
       "day                    0\n",
       "country_code           0\n",
       "country                0\n",
       "state                  0\n",
       "city                   0\n",
       "latitude               0\n",
       "longitude              0\n",
       "summary                0\n",
       "success                0\n",
       "suicide                0\n",
       "attack_type_code       0\n",
       "attack_type            0\n",
       "attack_type2_code      0\n",
       "attack_type2           0\n",
       "target_type_code       0\n",
       "target                 0\n",
       "target_subtype_code    0\n",
       "target_subtype         0\n",
       "nationality_code       0\n",
       "nationality            0\n",
       "group_name             0\n",
       "weapon_code            0\n",
       "weapon                 0\n",
       "weapon_subtype_code    0\n",
       "weapon_subtype         0\n",
       "weapon_detail          0\n",
       "fatalities             0\n",
       "wounded                0\n",
       "dtype: int64"
      ]
     },
     "execution_count": 10,
     "metadata": {},
     "output_type": "execute_result"
    }
   ],
   "source": [
    "## Checking for NAs\n",
    "nnull = df.isnull()\n",
    "nnull.sum()"
   ]
  },
  {
   "cell_type": "markdown",
   "metadata": {},
   "source": [
    "**Cleaning Data**"
   ]
  },
  {
   "cell_type": "code",
   "execution_count": 11,
   "metadata": {},
   "outputs": [],
   "source": [
    "#adjusting data types\n",
    "for col in ['country','state','city','success','suicide','attack_type','attack_type2','target','target_subtype','nationality','group_name','weapon','weapon_subtype','weapon_detail']:\n",
    "    df[col] = df[col].astype('category')\n",
    "    \n",
    "for col in ['attack_type2_code','target_subtype_code', 'nationality_code', 'weapon_subtype_code']:\n",
    "    df[col] = df[col].astype('int')"
   ]
  },
  {
   "cell_type": "code",
   "execution_count": 12,
   "metadata": {},
   "outputs": [
    {
     "data": {
      "text/plain": [
       "id                        int64\n",
       "year                      int64\n",
       "month                     int64\n",
       "day                       int64\n",
       "country_code              int64\n",
       "country                category\n",
       "state                  category\n",
       "city                   category\n",
       "latitude                float64\n",
       "longitude               float64\n",
       "summary                  object\n",
       "success                category\n",
       "suicide                category\n",
       "attack_type_code          int64\n",
       "attack_type            category\n",
       "attack_type2_code         int64\n",
       "attack_type2           category\n",
       "target_type_code          int64\n",
       "target                 category\n",
       "target_subtype_code       int64\n",
       "target_subtype         category\n",
       "nationality_code          int64\n",
       "nationality            category\n",
       "group_name             category\n",
       "weapon_code               int64\n",
       "weapon                 category\n",
       "weapon_subtype_code       int64\n",
       "weapon_subtype         category\n",
       "weapon_detail          category\n",
       "fatalities                int64\n",
       "wounded                   int64\n",
       "dtype: object"
      ]
     },
     "execution_count": 12,
     "metadata": {},
     "output_type": "execute_result"
    }
   ],
   "source": [
    "df.dtypes"
   ]
  },
  {
   "cell_type": "code",
   "execution_count": 13,
   "metadata": {
    "scrolled": true
   },
   "outputs": [],
   "source": [
    "## Replacing ambigious values in the day column\n",
    "df.loc[df['day'] == 0,'day'] = 1"
   ]
  },
  {
   "cell_type": "code",
   "execution_count": 14,
   "metadata": {},
   "outputs": [],
   "source": [
    "## Combining date columns into one\n",
    "df['date'] = pd.to_datetime(df[['day', 'month', 'year']])\n",
    "df.drop(['day','month'], axis=1, inplace=True)  "
   ]
  },
  {
   "cell_type": "code",
   "execution_count": 15,
   "metadata": {},
   "outputs": [],
   "source": [
    "## Checking for duplicates\n",
    "df = df.sort_values(['fatalities', 'wounded'], ascending = False)\n",
    "\n",
    "## Removing duplicates\n",
    "df = df.drop_duplicates(['latitude', 'longitude', 'fatalities', 'date'])"
   ]
  },
  {
   "cell_type": "code",
   "execution_count": 16,
   "metadata": {},
   "outputs": [
    {
     "data": {
      "text/plain": [
       "(2490, 30)"
      ]
     },
     "execution_count": 16,
     "metadata": {},
     "output_type": "execute_result"
    }
   ],
   "source": [
    "df.shape"
   ]
  },
  {
   "cell_type": "markdown",
   "metadata": {},
   "source": [
    "## Exploratore Data Analysis"
   ]
  },
  {
   "cell_type": "markdown",
   "metadata": {},
   "source": [
    "**Number of attacks over time**"
   ]
  },
  {
   "cell_type": "code",
   "execution_count": 17,
   "metadata": {},
   "outputs": [
    {
     "data": {
      "text/html": [
       "<div>\n",
       "<style scoped>\n",
       "    .dataframe tbody tr th:only-of-type {\n",
       "        vertical-align: middle;\n",
       "    }\n",
       "\n",
       "    .dataframe tbody tr th {\n",
       "        vertical-align: top;\n",
       "    }\n",
       "\n",
       "    .dataframe thead th {\n",
       "        text-align: right;\n",
       "    }\n",
       "</style>\n",
       "<table border=\"1\" class=\"dataframe\">\n",
       "  <thead>\n",
       "    <tr style=\"text-align: right;\">\n",
       "      <th></th>\n",
       "      <th>number_of_attacks</th>\n",
       "    </tr>\n",
       "    <tr>\n",
       "      <th>year</th>\n",
       "      <th></th>\n",
       "    </tr>\n",
       "  </thead>\n",
       "  <tbody>\n",
       "    <tr>\n",
       "      <th>1970</th>\n",
       "      <td>400</td>\n",
       "    </tr>\n",
       "    <tr>\n",
       "      <th>1971</th>\n",
       "      <td>213</td>\n",
       "    </tr>\n",
       "    <tr>\n",
       "      <th>1972</th>\n",
       "      <td>53</td>\n",
       "    </tr>\n",
       "    <tr>\n",
       "      <th>1973</th>\n",
       "      <td>54</td>\n",
       "    </tr>\n",
       "    <tr>\n",
       "      <th>1974</th>\n",
       "      <td>78</td>\n",
       "    </tr>\n",
       "    <tr>\n",
       "      <th>1975</th>\n",
       "      <td>118</td>\n",
       "    </tr>\n",
       "    <tr>\n",
       "      <th>1976</th>\n",
       "      <td>73</td>\n",
       "    </tr>\n",
       "    <tr>\n",
       "      <th>1977</th>\n",
       "      <td>106</td>\n",
       "    </tr>\n",
       "    <tr>\n",
       "      <th>1978</th>\n",
       "      <td>70</td>\n",
       "    </tr>\n",
       "    <tr>\n",
       "      <th>1979</th>\n",
       "      <td>61</td>\n",
       "    </tr>\n",
       "    <tr>\n",
       "      <th>1980</th>\n",
       "      <td>65</td>\n",
       "    </tr>\n",
       "    <tr>\n",
       "      <th>1981</th>\n",
       "      <td>63</td>\n",
       "    </tr>\n",
       "    <tr>\n",
       "      <th>1982</th>\n",
       "      <td>61</td>\n",
       "    </tr>\n",
       "    <tr>\n",
       "      <th>1983</th>\n",
       "      <td>41</td>\n",
       "    </tr>\n",
       "    <tr>\n",
       "      <th>1984</th>\n",
       "      <td>60</td>\n",
       "    </tr>\n",
       "    <tr>\n",
       "      <th>1985</th>\n",
       "      <td>36</td>\n",
       "    </tr>\n",
       "    <tr>\n",
       "      <th>1986</th>\n",
       "      <td>45</td>\n",
       "    </tr>\n",
       "    <tr>\n",
       "      <th>1987</th>\n",
       "      <td>31</td>\n",
       "    </tr>\n",
       "    <tr>\n",
       "      <th>1988</th>\n",
       "      <td>24</td>\n",
       "    </tr>\n",
       "    <tr>\n",
       "      <th>1989</th>\n",
       "      <td>39</td>\n",
       "    </tr>\n",
       "    <tr>\n",
       "      <th>1990</th>\n",
       "      <td>32</td>\n",
       "    </tr>\n",
       "    <tr>\n",
       "      <th>1991</th>\n",
       "      <td>29</td>\n",
       "    </tr>\n",
       "    <tr>\n",
       "      <th>1992</th>\n",
       "      <td>31</td>\n",
       "    </tr>\n",
       "    <tr>\n",
       "      <th>1994</th>\n",
       "      <td>52</td>\n",
       "    </tr>\n",
       "    <tr>\n",
       "      <th>1995</th>\n",
       "      <td>55</td>\n",
       "    </tr>\n",
       "    <tr>\n",
       "      <th>1996</th>\n",
       "      <td>31</td>\n",
       "    </tr>\n",
       "    <tr>\n",
       "      <th>1997</th>\n",
       "      <td>37</td>\n",
       "    </tr>\n",
       "    <tr>\n",
       "      <th>1998</th>\n",
       "      <td>26</td>\n",
       "    </tr>\n",
       "    <tr>\n",
       "      <th>1999</th>\n",
       "      <td>53</td>\n",
       "    </tr>\n",
       "    <tr>\n",
       "      <th>2000</th>\n",
       "      <td>30</td>\n",
       "    </tr>\n",
       "    <tr>\n",
       "      <th>2001</th>\n",
       "      <td>41</td>\n",
       "    </tr>\n",
       "    <tr>\n",
       "      <th>2002</th>\n",
       "      <td>31</td>\n",
       "    </tr>\n",
       "    <tr>\n",
       "      <th>2003</th>\n",
       "      <td>29</td>\n",
       "    </tr>\n",
       "    <tr>\n",
       "      <th>2004</th>\n",
       "      <td>9</td>\n",
       "    </tr>\n",
       "    <tr>\n",
       "      <th>2005</th>\n",
       "      <td>19</td>\n",
       "    </tr>\n",
       "    <tr>\n",
       "      <th>2006</th>\n",
       "      <td>6</td>\n",
       "    </tr>\n",
       "    <tr>\n",
       "      <th>2007</th>\n",
       "      <td>8</td>\n",
       "    </tr>\n",
       "    <tr>\n",
       "      <th>2008</th>\n",
       "      <td>15</td>\n",
       "    </tr>\n",
       "    <tr>\n",
       "      <th>2009</th>\n",
       "      <td>11</td>\n",
       "    </tr>\n",
       "    <tr>\n",
       "      <th>2010</th>\n",
       "      <td>16</td>\n",
       "    </tr>\n",
       "    <tr>\n",
       "      <th>2011</th>\n",
       "      <td>10</td>\n",
       "    </tr>\n",
       "    <tr>\n",
       "      <th>2012</th>\n",
       "      <td>17</td>\n",
       "    </tr>\n",
       "    <tr>\n",
       "      <th>2013</th>\n",
       "      <td>19</td>\n",
       "    </tr>\n",
       "    <tr>\n",
       "      <th>2014</th>\n",
       "      <td>28</td>\n",
       "    </tr>\n",
       "    <tr>\n",
       "      <th>2015</th>\n",
       "      <td>38</td>\n",
       "    </tr>\n",
       "    <tr>\n",
       "      <th>2016</th>\n",
       "      <td>61</td>\n",
       "    </tr>\n",
       "    <tr>\n",
       "      <th>2017</th>\n",
       "      <td>65</td>\n",
       "    </tr>\n",
       "  </tbody>\n",
       "</table>\n",
       "</div>"
      ],
      "text/plain": [
       "      number_of_attacks\n",
       "year                   \n",
       "1970                400\n",
       "1971                213\n",
       "1972                 53\n",
       "1973                 54\n",
       "1974                 78\n",
       "1975                118\n",
       "1976                 73\n",
       "1977                106\n",
       "1978                 70\n",
       "1979                 61\n",
       "1980                 65\n",
       "1981                 63\n",
       "1982                 61\n",
       "1983                 41\n",
       "1984                 60\n",
       "1985                 36\n",
       "1986                 45\n",
       "1987                 31\n",
       "1988                 24\n",
       "1989                 39\n",
       "1990                 32\n",
       "1991                 29\n",
       "1992                 31\n",
       "1994                 52\n",
       "1995                 55\n",
       "1996                 31\n",
       "1997                 37\n",
       "1998                 26\n",
       "1999                 53\n",
       "2000                 30\n",
       "2001                 41\n",
       "2002                 31\n",
       "2003                 29\n",
       "2004                  9\n",
       "2005                 19\n",
       "2006                  6\n",
       "2007                  8\n",
       "2008                 15\n",
       "2009                 11\n",
       "2010                 16\n",
       "2011                 10\n",
       "2012                 17\n",
       "2013                 19\n",
       "2014                 28\n",
       "2015                 38\n",
       "2016                 61\n",
       "2017                 65"
      ]
     },
     "execution_count": 17,
     "metadata": {},
     "output_type": "execute_result"
    }
   ],
   "source": [
    "grouped_year_id = pd.DataFrame(df,columns = ['year','id'])\n",
    "grouped_year_id = grouped_year_id.groupby(['year']).count()\n",
    "grouped_year_id = grouped_year_id.rename(columns = {'id':'number_of_attacks'})\n",
    "grouped_year_id"
   ]
  },
  {
   "cell_type": "code",
   "execution_count": 18,
   "metadata": {},
   "outputs": [
    {
     "data": {
      "text/plain": [
       "Text(0.5,0,'Year')"
      ]
     },
     "execution_count": 18,
     "metadata": {},
     "output_type": "execute_result"
    },
    {
     "data": {
      "image/png": "[encoded data removed]",
      "text/plain": [
       "<Figure size 864x648 with 1 Axes>"
      ]
     },
     "metadata": {},
     "output_type": "display_data"
    }
   ],
   "source": [
    "plt.figure(figsize=(12, 9))\n",
    "plt.plot(grouped_year_id)\n",
    "plt.ylabel('Number of Attacks')\n",
    "plt.xlabel('Year')"
   ]
  },
  {
   "cell_type": "markdown",
   "metadata": {},
   "source": [
    "**Number of total victims**"
   ]
  },
  {
   "cell_type": "code",
   "execution_count": 19,
   "metadata": {},
   "outputs": [
    {
     "data": {
      "text/html": [
       "<div>\n",
       "<style scoped>\n",
       "    .dataframe tbody tr th:only-of-type {\n",
       "        vertical-align: middle;\n",
       "    }\n",
       "\n",
       "    .dataframe tbody tr th {\n",
       "        vertical-align: top;\n",
       "    }\n",
       "\n",
       "    .dataframe thead th {\n",
       "        text-align: right;\n",
       "    }\n",
       "</style>\n",
       "<table border=\"1\" class=\"dataframe\">\n",
       "  <thead>\n",
       "    <tr style=\"text-align: right;\">\n",
       "      <th></th>\n",
       "      <th>fatalities</th>\n",
       "      <th>wounded</th>\n",
       "      <th>victims</th>\n",
       "    </tr>\n",
       "    <tr>\n",
       "      <th>year</th>\n",
       "      <th></th>\n",
       "      <th></th>\n",
       "      <th></th>\n",
       "    </tr>\n",
       "  </thead>\n",
       "  <tbody>\n",
       "    <tr>\n",
       "      <th>1970</th>\n",
       "      <td>33</td>\n",
       "      <td>152</td>\n",
       "      <td>185</td>\n",
       "    </tr>\n",
       "    <tr>\n",
       "      <th>1971</th>\n",
       "      <td>20</td>\n",
       "      <td>55</td>\n",
       "      <td>75</td>\n",
       "    </tr>\n",
       "    <tr>\n",
       "      <th>1972</th>\n",
       "      <td>9</td>\n",
       "      <td>29</td>\n",
       "      <td>38</td>\n",
       "    </tr>\n",
       "    <tr>\n",
       "      <th>1973</th>\n",
       "      <td>44</td>\n",
       "      <td>33</td>\n",
       "      <td>77</td>\n",
       "    </tr>\n",
       "    <tr>\n",
       "      <th>1974</th>\n",
       "      <td>13</td>\n",
       "      <td>54</td>\n",
       "      <td>67</td>\n",
       "    </tr>\n",
       "    <tr>\n",
       "      <th>1975</th>\n",
       "      <td>24</td>\n",
       "      <td>158</td>\n",
       "      <td>182</td>\n",
       "    </tr>\n",
       "    <tr>\n",
       "      <th>1976</th>\n",
       "      <td>3</td>\n",
       "      <td>37</td>\n",
       "      <td>40</td>\n",
       "    </tr>\n",
       "    <tr>\n",
       "      <th>1977</th>\n",
       "      <td>4</td>\n",
       "      <td>16</td>\n",
       "      <td>20</td>\n",
       "    </tr>\n",
       "    <tr>\n",
       "      <th>1978</th>\n",
       "      <td>8</td>\n",
       "      <td>8</td>\n",
       "      <td>16</td>\n",
       "    </tr>\n",
       "    <tr>\n",
       "      <th>1979</th>\n",
       "      <td>18</td>\n",
       "      <td>58</td>\n",
       "      <td>76</td>\n",
       "    </tr>\n",
       "    <tr>\n",
       "      <th>1980</th>\n",
       "      <td>15</td>\n",
       "      <td>22</td>\n",
       "      <td>37</td>\n",
       "    </tr>\n",
       "    <tr>\n",
       "      <th>1981</th>\n",
       "      <td>8</td>\n",
       "      <td>15</td>\n",
       "      <td>23</td>\n",
       "    </tr>\n",
       "    <tr>\n",
       "      <th>1982</th>\n",
       "      <td>11</td>\n",
       "      <td>34</td>\n",
       "      <td>45</td>\n",
       "    </tr>\n",
       "    <tr>\n",
       "      <th>1983</th>\n",
       "      <td>8</td>\n",
       "      <td>5</td>\n",
       "      <td>13</td>\n",
       "    </tr>\n",
       "    <tr>\n",
       "      <th>1984</th>\n",
       "      <td>3</td>\n",
       "      <td>780</td>\n",
       "      <td>783</td>\n",
       "    </tr>\n",
       "    <tr>\n",
       "      <th>1985</th>\n",
       "      <td>3</td>\n",
       "      <td>13</td>\n",
       "      <td>16</td>\n",
       "    </tr>\n",
       "    <tr>\n",
       "      <th>1986</th>\n",
       "      <td>1</td>\n",
       "      <td>36</td>\n",
       "      <td>37</td>\n",
       "    </tr>\n",
       "    <tr>\n",
       "      <th>1987</th>\n",
       "      <td>1</td>\n",
       "      <td>1</td>\n",
       "      <td>2</td>\n",
       "    </tr>\n",
       "    <tr>\n",
       "      <th>1988</th>\n",
       "      <td>1</td>\n",
       "      <td>1</td>\n",
       "      <td>2</td>\n",
       "    </tr>\n",
       "    <tr>\n",
       "      <th>1989</th>\n",
       "      <td>3</td>\n",
       "      <td>14</td>\n",
       "      <td>17</td>\n",
       "    </tr>\n",
       "    <tr>\n",
       "      <th>1990</th>\n",
       "      <td>5</td>\n",
       "      <td>7</td>\n",
       "      <td>12</td>\n",
       "    </tr>\n",
       "    <tr>\n",
       "      <th>1991</th>\n",
       "      <td>2</td>\n",
       "      <td>4</td>\n",
       "      <td>6</td>\n",
       "    </tr>\n",
       "    <tr>\n",
       "      <th>1992</th>\n",
       "      <td>2</td>\n",
       "      <td>3</td>\n",
       "      <td>5</td>\n",
       "    </tr>\n",
       "    <tr>\n",
       "      <th>1994</th>\n",
       "      <td>9</td>\n",
       "      <td>13</td>\n",
       "      <td>22</td>\n",
       "    </tr>\n",
       "    <tr>\n",
       "      <th>1995</th>\n",
       "      <td>178</td>\n",
       "      <td>738</td>\n",
       "      <td>916</td>\n",
       "    </tr>\n",
       "    <tr>\n",
       "      <th>1996</th>\n",
       "      <td>2</td>\n",
       "      <td>119</td>\n",
       "      <td>121</td>\n",
       "    </tr>\n",
       "    <tr>\n",
       "      <th>1997</th>\n",
       "      <td>2</td>\n",
       "      <td>18</td>\n",
       "      <td>20</td>\n",
       "    </tr>\n",
       "    <tr>\n",
       "      <th>1998</th>\n",
       "      <td>4</td>\n",
       "      <td>3</td>\n",
       "      <td>7</td>\n",
       "    </tr>\n",
       "    <tr>\n",
       "      <th>1999</th>\n",
       "      <td>20</td>\n",
       "      <td>40</td>\n",
       "      <td>60</td>\n",
       "    </tr>\n",
       "    <tr>\n",
       "      <th>2000</th>\n",
       "      <td>0</td>\n",
       "      <td>7</td>\n",
       "      <td>7</td>\n",
       "    </tr>\n",
       "    <tr>\n",
       "      <th>2001</th>\n",
       "      <td>3008</td>\n",
       "      <td>16515</td>\n",
       "      <td>19523</td>\n",
       "    </tr>\n",
       "    <tr>\n",
       "      <th>2002</th>\n",
       "      <td>4</td>\n",
       "      <td>11</td>\n",
       "      <td>15</td>\n",
       "    </tr>\n",
       "    <tr>\n",
       "      <th>2003</th>\n",
       "      <td>0</td>\n",
       "      <td>0</td>\n",
       "      <td>0</td>\n",
       "    </tr>\n",
       "    <tr>\n",
       "      <th>2004</th>\n",
       "      <td>0</td>\n",
       "      <td>0</td>\n",
       "      <td>0</td>\n",
       "    </tr>\n",
       "    <tr>\n",
       "      <th>2005</th>\n",
       "      <td>0</td>\n",
       "      <td>0</td>\n",
       "      <td>0</td>\n",
       "    </tr>\n",
       "    <tr>\n",
       "      <th>2006</th>\n",
       "      <td>1</td>\n",
       "      <td>14</td>\n",
       "      <td>15</td>\n",
       "    </tr>\n",
       "    <tr>\n",
       "      <th>2007</th>\n",
       "      <td>0</td>\n",
       "      <td>0</td>\n",
       "      <td>0</td>\n",
       "    </tr>\n",
       "    <tr>\n",
       "      <th>2008</th>\n",
       "      <td>2</td>\n",
       "      <td>12</td>\n",
       "      <td>14</td>\n",
       "    </tr>\n",
       "    <tr>\n",
       "      <th>2009</th>\n",
       "      <td>18</td>\n",
       "      <td>41</td>\n",
       "      <td>59</td>\n",
       "    </tr>\n",
       "    <tr>\n",
       "      <th>2010</th>\n",
       "      <td>4</td>\n",
       "      <td>17</td>\n",
       "      <td>21</td>\n",
       "    </tr>\n",
       "    <tr>\n",
       "      <th>2011</th>\n",
       "      <td>0</td>\n",
       "      <td>2</td>\n",
       "      <td>2</td>\n",
       "    </tr>\n",
       "    <tr>\n",
       "      <th>2012</th>\n",
       "      <td>7</td>\n",
       "      <td>7</td>\n",
       "      <td>14</td>\n",
       "    </tr>\n",
       "    <tr>\n",
       "      <th>2013</th>\n",
       "      <td>23</td>\n",
       "      <td>436</td>\n",
       "      <td>459</td>\n",
       "    </tr>\n",
       "    <tr>\n",
       "      <th>2014</th>\n",
       "      <td>26</td>\n",
       "      <td>19</td>\n",
       "      <td>45</td>\n",
       "    </tr>\n",
       "    <tr>\n",
       "      <th>2015</th>\n",
       "      <td>54</td>\n",
       "      <td>58</td>\n",
       "      <td>112</td>\n",
       "    </tr>\n",
       "    <tr>\n",
       "      <th>2016</th>\n",
       "      <td>68</td>\n",
       "      <td>139</td>\n",
       "      <td>207</td>\n",
       "    </tr>\n",
       "    <tr>\n",
       "      <th>2017</th>\n",
       "      <td>95</td>\n",
       "      <td>932</td>\n",
       "      <td>1027</td>\n",
       "    </tr>\n",
       "  </tbody>\n",
       "</table>\n",
       "</div>"
      ],
      "text/plain": [
       "      fatalities  wounded  victims\n",
       "year                              \n",
       "1970          33      152      185\n",
       "1971          20       55       75\n",
       "1972           9       29       38\n",
       "1973          44       33       77\n",
       "1974          13       54       67\n",
       "1975          24      158      182\n",
       "1976           3       37       40\n",
       "1977           4       16       20\n",
       "1978           8        8       16\n",
       "1979          18       58       76\n",
       "1980          15       22       37\n",
       "1981           8       15       23\n",
       "1982          11       34       45\n",
       "1983           8        5       13\n",
       "1984           3      780      783\n",
       "1985           3       13       16\n",
       "1986           1       36       37\n",
       "1987           1        1        2\n",
       "1988           1        1        2\n",
       "1989           3       14       17\n",
       "1990           5        7       12\n",
       "1991           2        4        6\n",
       "1992           2        3        5\n",
       "1994           9       13       22\n",
       "1995         178      738      916\n",
       "1996           2      119      121\n",
       "1997           2       18       20\n",
       "1998           4        3        7\n",
       "1999          20       40       60\n",
       "2000           0        7        7\n",
       "2001        3008    16515    19523\n",
       "2002           4       11       15\n",
       "2003           0        0        0\n",
       "2004           0        0        0\n",
       "2005           0        0        0\n",
       "2006           1       14       15\n",
       "2007           0        0        0\n",
       "2008           2       12       14\n",
       "2009          18       41       59\n",
       "2010           4       17       21\n",
       "2011           0        2        2\n",
       "2012           7        7       14\n",
       "2013          23      436      459\n",
       "2014          26       19       45\n",
       "2015          54       58      112\n",
       "2016          68      139      207\n",
       "2017          95      932     1027"
      ]
     },
     "execution_count": 19,
     "metadata": {},
     "output_type": "execute_result"
    }
   ],
   "source": [
    "grouped_year_victims = pd.DataFrame(df,columns = ['year','fatalities','wounded'])\n",
    "grouped_year_victims['victims'] = df.fatalities + df.wounded\n",
    "grouped_year_victims = grouped_year_victims.groupby(['year']).sum()\n",
    "grouped_year_victims"
   ]
  },
  {
   "cell_type": "code",
   "execution_count": 20,
   "metadata": {},
   "outputs": [
    {
     "data": {
      "text/plain": [
       "Text(0.5,0,'Year')"
      ]
     },
     "execution_count": 20,
     "metadata": {},
     "output_type": "execute_result"
    },
    {
     "data": {
      "image/png": "[encoded data removed]",
      "text/plain": [
       "<Figure size 864x648 with 1 Axes>"
      ]
     },
     "metadata": {},
     "output_type": "display_data"
    }
   ],
   "source": [
    "plt.figure(figsize=(12, 9))\n",
    "plt.plot(grouped_year_victims.victims)\n",
    "plt.ylabel('Number of Victims')\n",
    "plt.xlabel('Year')"
   ]
  },
  {
   "cell_type": "markdown",
   "metadata": {},
   "source": [
    "**Number of fatalities and number of wounded over time**"
   ]
  },
  {
   "cell_type": "code",
   "execution_count": 21,
   "metadata": {},
   "outputs": [],
   "source": [
    "df_victims = pd.DataFrame(grouped_year_victims, columns = ['fatalities','wounded','victims'])"
   ]
  },
  {
   "cell_type": "code",
   "execution_count": 22,
   "metadata": {},
   "outputs": [],
   "source": [
    "df_victims = df_victims.reset_index()\n",
    "df_victims['year'] = (list(range(1970,1993)) + list(range(1994,2018)))"
   ]
  },
  {
   "cell_type": "code",
   "execution_count": 23,
   "metadata": {},
   "outputs": [
    {
     "data": {
      "text/html": [
       "<div>\n",
       "<style scoped>\n",
       "    .dataframe tbody tr th:only-of-type {\n",
       "        vertical-align: middle;\n",
       "    }\n",
       "\n",
       "    .dataframe tbody tr th {\n",
       "        vertical-align: top;\n",
       "    }\n",
       "\n",
       "    .dataframe thead th {\n",
       "        text-align: right;\n",
       "    }\n",
       "</style>\n",
       "<table border=\"1\" class=\"dataframe\">\n",
       "  <thead>\n",
       "    <tr style=\"text-align: right;\">\n",
       "      <th></th>\n",
       "      <th>year</th>\n",
       "      <th>fatalities</th>\n",
       "      <th>wounded</th>\n",
       "      <th>victims</th>\n",
       "    </tr>\n",
       "  </thead>\n",
       "  <tbody>\n",
       "    <tr>\n",
       "      <th>0</th>\n",
       "      <td>1970</td>\n",
       "      <td>33</td>\n",
       "      <td>152</td>\n",
       "      <td>185</td>\n",
       "    </tr>\n",
       "    <tr>\n",
       "      <th>1</th>\n",
       "      <td>1971</td>\n",
       "      <td>20</td>\n",
       "      <td>55</td>\n",
       "      <td>75</td>\n",
       "    </tr>\n",
       "    <tr>\n",
       "      <th>2</th>\n",
       "      <td>1972</td>\n",
       "      <td>9</td>\n",
       "      <td>29</td>\n",
       "      <td>38</td>\n",
       "    </tr>\n",
       "    <tr>\n",
       "      <th>3</th>\n",
       "      <td>1973</td>\n",
       "      <td>44</td>\n",
       "      <td>33</td>\n",
       "      <td>77</td>\n",
       "    </tr>\n",
       "    <tr>\n",
       "      <th>4</th>\n",
       "      <td>1974</td>\n",
       "      <td>13</td>\n",
       "      <td>54</td>\n",
       "      <td>67</td>\n",
       "    </tr>\n",
       "    <tr>\n",
       "      <th>5</th>\n",
       "      <td>1975</td>\n",
       "      <td>24</td>\n",
       "      <td>158</td>\n",
       "      <td>182</td>\n",
       "    </tr>\n",
       "    <tr>\n",
       "      <th>6</th>\n",
       "      <td>1976</td>\n",
       "      <td>3</td>\n",
       "      <td>37</td>\n",
       "      <td>40</td>\n",
       "    </tr>\n",
       "    <tr>\n",
       "      <th>7</th>\n",
       "      <td>1977</td>\n",
       "      <td>4</td>\n",
       "      <td>16</td>\n",
       "      <td>20</td>\n",
       "    </tr>\n",
       "    <tr>\n",
       "      <th>8</th>\n",
       "      <td>1978</td>\n",
       "      <td>8</td>\n",
       "      <td>8</td>\n",
       "      <td>16</td>\n",
       "    </tr>\n",
       "    <tr>\n",
       "      <th>9</th>\n",
       "      <td>1979</td>\n",
       "      <td>18</td>\n",
       "      <td>58</td>\n",
       "      <td>76</td>\n",
       "    </tr>\n",
       "    <tr>\n",
       "      <th>10</th>\n",
       "      <td>1980</td>\n",
       "      <td>15</td>\n",
       "      <td>22</td>\n",
       "      <td>37</td>\n",
       "    </tr>\n",
       "    <tr>\n",
       "      <th>11</th>\n",
       "      <td>1981</td>\n",
       "      <td>8</td>\n",
       "      <td>15</td>\n",
       "      <td>23</td>\n",
       "    </tr>\n",
       "    <tr>\n",
       "      <th>12</th>\n",
       "      <td>1982</td>\n",
       "      <td>11</td>\n",
       "      <td>34</td>\n",
       "      <td>45</td>\n",
       "    </tr>\n",
       "    <tr>\n",
       "      <th>13</th>\n",
       "      <td>1983</td>\n",
       "      <td>8</td>\n",
       "      <td>5</td>\n",
       "      <td>13</td>\n",
       "    </tr>\n",
       "    <tr>\n",
       "      <th>14</th>\n",
       "      <td>1984</td>\n",
       "      <td>3</td>\n",
       "      <td>780</td>\n",
       "      <td>783</td>\n",
       "    </tr>\n",
       "    <tr>\n",
       "      <th>15</th>\n",
       "      <td>1985</td>\n",
       "      <td>3</td>\n",
       "      <td>13</td>\n",
       "      <td>16</td>\n",
       "    </tr>\n",
       "    <tr>\n",
       "      <th>16</th>\n",
       "      <td>1986</td>\n",
       "      <td>1</td>\n",
       "      <td>36</td>\n",
       "      <td>37</td>\n",
       "    </tr>\n",
       "    <tr>\n",
       "      <th>17</th>\n",
       "      <td>1987</td>\n",
       "      <td>1</td>\n",
       "      <td>1</td>\n",
       "      <td>2</td>\n",
       "    </tr>\n",
       "    <tr>\n",
       "      <th>18</th>\n",
       "      <td>1988</td>\n",
       "      <td>1</td>\n",
       "      <td>1</td>\n",
       "      <td>2</td>\n",
       "    </tr>\n",
       "    <tr>\n",
       "      <th>19</th>\n",
       "      <td>1989</td>\n",
       "      <td>3</td>\n",
       "      <td>14</td>\n",
       "      <td>17</td>\n",
       "    </tr>\n",
       "    <tr>\n",
       "      <th>20</th>\n",
       "      <td>1990</td>\n",
       "      <td>5</td>\n",
       "      <td>7</td>\n",
       "      <td>12</td>\n",
       "    </tr>\n",
       "    <tr>\n",
       "      <th>21</th>\n",
       "      <td>1991</td>\n",
       "      <td>2</td>\n",
       "      <td>4</td>\n",
       "      <td>6</td>\n",
       "    </tr>\n",
       "    <tr>\n",
       "      <th>22</th>\n",
       "      <td>1992</td>\n",
       "      <td>2</td>\n",
       "      <td>3</td>\n",
       "      <td>5</td>\n",
       "    </tr>\n",
       "    <tr>\n",
       "      <th>23</th>\n",
       "      <td>1994</td>\n",
       "      <td>9</td>\n",
       "      <td>13</td>\n",
       "      <td>22</td>\n",
       "    </tr>\n",
       "    <tr>\n",
       "      <th>24</th>\n",
       "      <td>1995</td>\n",
       "      <td>178</td>\n",
       "      <td>738</td>\n",
       "      <td>916</td>\n",
       "    </tr>\n",
       "    <tr>\n",
       "      <th>25</th>\n",
       "      <td>1996</td>\n",
       "      <td>2</td>\n",
       "      <td>119</td>\n",
       "      <td>121</td>\n",
       "    </tr>\n",
       "    <tr>\n",
       "      <th>26</th>\n",
       "      <td>1997</td>\n",
       "      <td>2</td>\n",
       "      <td>18</td>\n",
       "      <td>20</td>\n",
       "    </tr>\n",
       "    <tr>\n",
       "      <th>27</th>\n",
       "      <td>1998</td>\n",
       "      <td>4</td>\n",
       "      <td>3</td>\n",
       "      <td>7</td>\n",
       "    </tr>\n",
       "    <tr>\n",
       "      <th>28</th>\n",
       "      <td>1999</td>\n",
       "      <td>20</td>\n",
       "      <td>40</td>\n",
       "      <td>60</td>\n",
       "    </tr>\n",
       "    <tr>\n",
       "      <th>29</th>\n",
       "      <td>2000</td>\n",
       "      <td>0</td>\n",
       "      <td>7</td>\n",
       "      <td>7</td>\n",
       "    </tr>\n",
       "    <tr>\n",
       "      <th>30</th>\n",
       "      <td>2001</td>\n",
       "      <td>3008</td>\n",
       "      <td>16515</td>\n",
       "      <td>19523</td>\n",
       "    </tr>\n",
       "    <tr>\n",
       "      <th>31</th>\n",
       "      <td>2002</td>\n",
       "      <td>4</td>\n",
       "      <td>11</td>\n",
       "      <td>15</td>\n",
       "    </tr>\n",
       "    <tr>\n",
       "      <th>32</th>\n",
       "      <td>2003</td>\n",
       "      <td>0</td>\n",
       "      <td>0</td>\n",
       "      <td>0</td>\n",
       "    </tr>\n",
       "    <tr>\n",
       "      <th>33</th>\n",
       "      <td>2004</td>\n",
       "      <td>0</td>\n",
       "      <td>0</td>\n",
       "      <td>0</td>\n",
       "    </tr>\n",
       "    <tr>\n",
       "      <th>34</th>\n",
       "      <td>2005</td>\n",
       "      <td>0</td>\n",
       "      <td>0</td>\n",
       "      <td>0</td>\n",
       "    </tr>\n",
       "    <tr>\n",
       "      <th>35</th>\n",
       "      <td>2006</td>\n",
       "      <td>1</td>\n",
       "      <td>14</td>\n",
       "      <td>15</td>\n",
       "    </tr>\n",
       "    <tr>\n",
       "      <th>36</th>\n",
       "      <td>2007</td>\n",
       "      <td>0</td>\n",
       "      <td>0</td>\n",
       "      <td>0</td>\n",
       "    </tr>\n",
       "    <tr>\n",
       "      <th>37</th>\n",
       "      <td>2008</td>\n",
       "      <td>2</td>\n",
       "      <td>12</td>\n",
       "      <td>14</td>\n",
       "    </tr>\n",
       "    <tr>\n",
       "      <th>38</th>\n",
       "      <td>2009</td>\n",
       "      <td>18</td>\n",
       "      <td>41</td>\n",
       "      <td>59</td>\n",
       "    </tr>\n",
       "    <tr>\n",
       "      <th>39</th>\n",
       "      <td>2010</td>\n",
       "      <td>4</td>\n",
       "      <td>17</td>\n",
       "      <td>21</td>\n",
       "    </tr>\n",
       "    <tr>\n",
       "      <th>40</th>\n",
       "      <td>2011</td>\n",
       "      <td>0</td>\n",
       "      <td>2</td>\n",
       "      <td>2</td>\n",
       "    </tr>\n",
       "    <tr>\n",
       "      <th>41</th>\n",
       "      <td>2012</td>\n",
       "      <td>7</td>\n",
       "      <td>7</td>\n",
       "      <td>14</td>\n",
       "    </tr>\n",
       "    <tr>\n",
       "      <th>42</th>\n",
       "      <td>2013</td>\n",
       "      <td>23</td>\n",
       "      <td>436</td>\n",
       "      <td>459</td>\n",
       "    </tr>\n",
       "    <tr>\n",
       "      <th>43</th>\n",
       "      <td>2014</td>\n",
       "      <td>26</td>\n",
       "      <td>19</td>\n",
       "      <td>45</td>\n",
       "    </tr>\n",
       "    <tr>\n",
       "      <th>44</th>\n",
       "      <td>2015</td>\n",
       "      <td>54</td>\n",
       "      <td>58</td>\n",
       "      <td>112</td>\n",
       "    </tr>\n",
       "    <tr>\n",
       "      <th>45</th>\n",
       "      <td>2016</td>\n",
       "      <td>68</td>\n",
       "      <td>139</td>\n",
       "      <td>207</td>\n",
       "    </tr>\n",
       "    <tr>\n",
       "      <th>46</th>\n",
       "      <td>2017</td>\n",
       "      <td>95</td>\n",
       "      <td>932</td>\n",
       "      <td>1027</td>\n",
       "    </tr>\n",
       "  </tbody>\n",
       "</table>\n",
       "</div>"
      ],
      "text/plain": [
       "    year  fatalities  wounded  victims\n",
       "0   1970          33      152      185\n",
       "1   1971          20       55       75\n",
       "2   1972           9       29       38\n",
       "3   1973          44       33       77\n",
       "4   1974          13       54       67\n",
       "5   1975          24      158      182\n",
       "6   1976           3       37       40\n",
       "7   1977           4       16       20\n",
       "8   1978           8        8       16\n",
       "9   1979          18       58       76\n",
       "10  1980          15       22       37\n",
       "11  1981           8       15       23\n",
       "12  1982          11       34       45\n",
       "13  1983           8        5       13\n",
       "14  1984           3      780      783\n",
       "15  1985           3       13       16\n",
       "16  1986           1       36       37\n",
       "17  1987           1        1        2\n",
       "18  1988           1        1        2\n",
       "19  1989           3       14       17\n",
       "20  1990           5        7       12\n",
       "21  1991           2        4        6\n",
       "22  1992           2        3        5\n",
       "23  1994           9       13       22\n",
       "24  1995         178      738      916\n",
       "25  1996           2      119      121\n",
       "26  1997           2       18       20\n",
       "27  1998           4        3        7\n",
       "28  1999          20       40       60\n",
       "29  2000           0        7        7\n",
       "30  2001        3008    16515    19523\n",
       "31  2002           4       11       15\n",
       "32  2003           0        0        0\n",
       "33  2004           0        0        0\n",
       "34  2005           0        0        0\n",
       "35  2006           1       14       15\n",
       "36  2007           0        0        0\n",
       "37  2008           2       12       14\n",
       "38  2009          18       41       59\n",
       "39  2010           4       17       21\n",
       "40  2011           0        2        2\n",
       "41  2012           7        7       14\n",
       "42  2013          23      436      459\n",
       "43  2014          26       19       45\n",
       "44  2015          54       58      112\n",
       "45  2016          68      139      207\n",
       "46  2017          95      932     1027"
      ]
     },
     "execution_count": 23,
     "metadata": {},
     "output_type": "execute_result"
    }
   ],
   "source": [
    "df_victims"
   ]
  },
  {
   "cell_type": "code",
   "execution_count": 24,
   "metadata": {},
   "outputs": [],
   "source": [
    "year = df_victims.year\n",
    "all_victims = df_victims.victims\n",
    "fatalities = df_victims.fatalities\n",
    "wounded = df_victims.wounded"
   ]
  },
  {
   "cell_type": "code",
   "execution_count": 25,
   "metadata": {},
   "outputs": [
    {
     "data": {
      "text/plain": [
       "Text(0.5,0,'Year')"
      ]
     },
     "execution_count": 25,
     "metadata": {},
     "output_type": "execute_result"
    },
    {
     "data": {
      "image/png": "[encoded data removed]",
      "text/plain": [
       "<Figure size 864x648 with 1 Axes>"
      ]
     },
     "metadata": {},
     "output_type": "display_data"
    }
   ],
   "source": [
    "plt.figure(figsize=(12, 9))\n",
    "plt.plot(year, fatalities)\n",
    "plt.plot(year, wounded)\n",
    "plt.legend()\n",
    "plt.ylabel('Number of victims')\n",
    "plt.xlabel('Year')"
   ]
  },
  {
   "cell_type": "markdown",
   "metadata": {},
   "source": [
    "**Analysis of attack types**"
   ]
  },
  {
   "cell_type": "code",
   "execution_count": 26,
   "metadata": {
    "scrolled": false
   },
   "outputs": [
    {
     "data": {
      "image/png": "[encoded data removed]",
      "text/plain": [
       "<Figure size 1440x1008 with 1 Axes>"
      ]
     },
     "metadata": {},
     "output_type": "display_data"
    }
   ],
   "source": [
    "top_5_attack_types=df[df['attack_type'].isin(df['attack_type'].value_counts()[0:5].index)]\n",
    "pd.crosstab(top_5_attack_types.year,top_5_attack_types.attack_type).plot()\n",
    "fig=plt.gcf()\n",
    "fig.set_size_inches(20,14)\n",
    "#plt.box(on=None)\n",
    "plt.ylabel('Number of attacks')\n",
    "plt.xlabel('Year')\n",
    "plt.show()"
   ]
  },
  {
   "cell_type": "markdown",
   "metadata": {},
   "source": [
    "**Top 10 perpetrator groups**"
   ]
  },
  {
   "cell_type": "code",
   "execution_count": 27,
   "metadata": {},
   "outputs": [
    {
     "data": {
      "image/png": "[encoded data removed]",
      "text/plain": [
       "<Figure size 1440x1008 with 1 Axes>"
      ]
     },
     "metadata": {},
     "output_type": "display_data"
    }
   ],
   "source": [
    "top_10_groups=df[df['group_name'].isin(df['group_name'].value_counts()[0:10].index)]\n",
    "pd.crosstab(top_10_groups.year,top_10_groups.group_name).plot()\n",
    "fig=plt.gcf()\n",
    "fig.set_size_inches(20,14)\n",
    "plt.show()"
   ]
  },
  {
   "cell_type": "markdown",
   "metadata": {},
   "source": [
    "**Number of victims for armed assault and facility/infrastructure attacks over time**"
   ]
  },
  {
   "cell_type": "code",
   "execution_count": 28,
   "metadata": {},
   "outputs": [],
   "source": [
    "df2 = df[df.attack_type.isin(['Armed Assault','Facility/Infrastructure Attack'])]"
   ]
  },
  {
   "cell_type": "code",
   "execution_count": 29,
   "metadata": {},
   "outputs": [
    {
     "data": {
      "text/html": [
       "<div>\n",
       "<style scoped>\n",
       "    .dataframe tbody tr th:only-of-type {\n",
       "        vertical-align: middle;\n",
       "    }\n",
       "\n",
       "    .dataframe tbody tr th {\n",
       "        vertical-align: top;\n",
       "    }\n",
       "\n",
       "    .dataframe thead th {\n",
       "        text-align: right;\n",
       "    }\n",
       "</style>\n",
       "<table border=\"1\" class=\"dataframe\">\n",
       "  <thead>\n",
       "    <tr style=\"text-align: right;\">\n",
       "      <th></th>\n",
       "      <th>victims</th>\n",
       "    </tr>\n",
       "    <tr>\n",
       "      <th>year</th>\n",
       "      <th></th>\n",
       "    </tr>\n",
       "  </thead>\n",
       "  <tbody>\n",
       "    <tr>\n",
       "      <th>1970</th>\n",
       "      <td>57</td>\n",
       "    </tr>\n",
       "    <tr>\n",
       "      <th>1971</th>\n",
       "      <td>50</td>\n",
       "    </tr>\n",
       "    <tr>\n",
       "      <th>1972</th>\n",
       "      <td>15</td>\n",
       "    </tr>\n",
       "    <tr>\n",
       "      <th>1973</th>\n",
       "      <td>53</td>\n",
       "    </tr>\n",
       "    <tr>\n",
       "      <th>1974</th>\n",
       "      <td>14</td>\n",
       "    </tr>\n",
       "    <tr>\n",
       "      <th>1975</th>\n",
       "      <td>4</td>\n",
       "    </tr>\n",
       "    <tr>\n",
       "      <th>1976</th>\n",
       "      <td>3</td>\n",
       "    </tr>\n",
       "    <tr>\n",
       "      <th>1977</th>\n",
       "      <td>5</td>\n",
       "    </tr>\n",
       "    <tr>\n",
       "      <th>1978</th>\n",
       "      <td>6</td>\n",
       "    </tr>\n",
       "    <tr>\n",
       "      <th>1979</th>\n",
       "      <td>43</td>\n",
       "    </tr>\n",
       "    <tr>\n",
       "      <th>1980</th>\n",
       "      <td>17</td>\n",
       "    </tr>\n",
       "    <tr>\n",
       "      <th>1981</th>\n",
       "      <td>5</td>\n",
       "    </tr>\n",
       "    <tr>\n",
       "      <th>1982</th>\n",
       "      <td>9</td>\n",
       "    </tr>\n",
       "    <tr>\n",
       "      <th>1983</th>\n",
       "      <td>8</td>\n",
       "    </tr>\n",
       "    <tr>\n",
       "      <th>1984</th>\n",
       "      <td>1</td>\n",
       "    </tr>\n",
       "    <tr>\n",
       "      <th>1985</th>\n",
       "      <td>3</td>\n",
       "    </tr>\n",
       "    <tr>\n",
       "      <th>1986</th>\n",
       "      <td>0</td>\n",
       "    </tr>\n",
       "    <tr>\n",
       "      <th>1987</th>\n",
       "      <td>1</td>\n",
       "    </tr>\n",
       "    <tr>\n",
       "      <th>1988</th>\n",
       "      <td>0</td>\n",
       "    </tr>\n",
       "    <tr>\n",
       "      <th>1989</th>\n",
       "      <td>1</td>\n",
       "    </tr>\n",
       "    <tr>\n",
       "      <th>1990</th>\n",
       "      <td>0</td>\n",
       "    </tr>\n",
       "    <tr>\n",
       "      <th>1991</th>\n",
       "      <td>4</td>\n",
       "    </tr>\n",
       "    <tr>\n",
       "      <th>1992</th>\n",
       "      <td>2</td>\n",
       "    </tr>\n",
       "    <tr>\n",
       "      <th>1994</th>\n",
       "      <td>11</td>\n",
       "    </tr>\n",
       "    <tr>\n",
       "      <th>1995</th>\n",
       "      <td>83</td>\n",
       "    </tr>\n",
       "    <tr>\n",
       "      <th>1996</th>\n",
       "      <td>0</td>\n",
       "    </tr>\n",
       "    <tr>\n",
       "      <th>1997</th>\n",
       "      <td>8</td>\n",
       "    </tr>\n",
       "    <tr>\n",
       "      <th>1998</th>\n",
       "      <td>4</td>\n",
       "    </tr>\n",
       "    <tr>\n",
       "      <th>1999</th>\n",
       "      <td>20</td>\n",
       "    </tr>\n",
       "    <tr>\n",
       "      <th>2000</th>\n",
       "      <td>0</td>\n",
       "    </tr>\n",
       "    <tr>\n",
       "      <th>2001</th>\n",
       "      <td>0</td>\n",
       "    </tr>\n",
       "    <tr>\n",
       "      <th>2002</th>\n",
       "      <td>7</td>\n",
       "    </tr>\n",
       "    <tr>\n",
       "      <th>2003</th>\n",
       "      <td>0</td>\n",
       "    </tr>\n",
       "    <tr>\n",
       "      <th>2004</th>\n",
       "      <td>0</td>\n",
       "    </tr>\n",
       "    <tr>\n",
       "      <th>2005</th>\n",
       "      <td>0</td>\n",
       "    </tr>\n",
       "    <tr>\n",
       "      <th>2006</th>\n",
       "      <td>6</td>\n",
       "    </tr>\n",
       "    <tr>\n",
       "      <th>2007</th>\n",
       "      <td>0</td>\n",
       "    </tr>\n",
       "    <tr>\n",
       "      <th>2008</th>\n",
       "      <td>13</td>\n",
       "    </tr>\n",
       "    <tr>\n",
       "      <th>2009</th>\n",
       "      <td>57</td>\n",
       "    </tr>\n",
       "    <tr>\n",
       "      <th>2010</th>\n",
       "      <td>20</td>\n",
       "    </tr>\n",
       "    <tr>\n",
       "      <th>2011</th>\n",
       "      <td>2</td>\n",
       "    </tr>\n",
       "    <tr>\n",
       "      <th>2012</th>\n",
       "      <td>13</td>\n",
       "    </tr>\n",
       "    <tr>\n",
       "      <th>2013</th>\n",
       "      <td>174</td>\n",
       "    </tr>\n",
       "    <tr>\n",
       "      <th>2014</th>\n",
       "      <td>42</td>\n",
       "    </tr>\n",
       "    <tr>\n",
       "      <th>2015</th>\n",
       "      <td>48</td>\n",
       "    </tr>\n",
       "    <tr>\n",
       "      <th>2016</th>\n",
       "      <td>73</td>\n",
       "    </tr>\n",
       "    <tr>\n",
       "      <th>2017</th>\n",
       "      <td>964</td>\n",
       "    </tr>\n",
       "  </tbody>\n",
       "</table>\n",
       "</div>"
      ],
      "text/plain": [
       "      victims\n",
       "year         \n",
       "1970       57\n",
       "1971       50\n",
       "1972       15\n",
       "1973       53\n",
       "1974       14\n",
       "1975        4\n",
       "1976        3\n",
       "1977        5\n",
       "1978        6\n",
       "1979       43\n",
       "1980       17\n",
       "1981        5\n",
       "1982        9\n",
       "1983        8\n",
       "1984        1\n",
       "1985        3\n",
       "1986        0\n",
       "1987        1\n",
       "1988        0\n",
       "1989        1\n",
       "1990        0\n",
       "1991        4\n",
       "1992        2\n",
       "1994       11\n",
       "1995       83\n",
       "1996        0\n",
       "1997        8\n",
       "1998        4\n",
       "1999       20\n",
       "2000        0\n",
       "2001        0\n",
       "2002        7\n",
       "2003        0\n",
       "2004        0\n",
       "2005        0\n",
       "2006        6\n",
       "2007        0\n",
       "2008       13\n",
       "2009       57\n",
       "2010       20\n",
       "2011        2\n",
       "2012       13\n",
       "2013      174\n",
       "2014       42\n",
       "2015       48\n",
       "2016       73\n",
       "2017      964"
      ]
     },
     "execution_count": 29,
     "metadata": {},
     "output_type": "execute_result"
    }
   ],
   "source": [
    "grouped_year_victims2 = pd.DataFrame(df2,columns = ['year','fatalities','wounded'])\n",
    "grouped_year_victims2['victims'] = df2.fatalities + df2.wounded\n",
    "grouped_year_victims2.drop(['fatalities', 'wounded'], axis=1, inplace=True)\n",
    "grouped_year_victims2 = grouped_year_victims2.groupby(['year']).sum()\n",
    "grouped_year_victims2"
   ]
  },
  {
   "cell_type": "code",
   "execution_count": 30,
   "metadata": {},
   "outputs": [
    {
     "data": {
      "text/plain": [
       "Text(0.5,0,'Year')"
      ]
     },
     "execution_count": 30,
     "metadata": {},
     "output_type": "execute_result"
    },
    {
     "data": {
      "image/png": "[encoded data removed]",
      "text/plain": [
       "<Figure size 864x648 with 1 Axes>"
      ]
     },
     "metadata": {},
     "output_type": "display_data"
    }
   ],
   "source": [
    "plt.figure(figsize=(12, 9))\n",
    "plt.plot(grouped_year_victims2)\n",
    "plt.ylabel('Number of Victims')\n",
    "plt.xlabel('Year')"
   ]
  },
  {
   "cell_type": "markdown",
   "metadata": {},
   "source": [
    "**Top 10 perpetrator groups for armed assault and facility attacks**"
   ]
  },
  {
   "cell_type": "code",
   "execution_count": 31,
   "metadata": {},
   "outputs": [
    {
     "data": {
      "image/png": "[encoded data removed]",
      "text/plain": [
       "<Figure size 1440x1008 with 1 Axes>"
      ]
     },
     "metadata": {},
     "output_type": "display_data"
    }
   ],
   "source": [
    "top_10_groups2=df2[df2['group_name'].isin(df2['group_name'].value_counts()[0:10].index)]\n",
    "pd.crosstab(top_10_groups2.year,top_10_groups2.group_name).plot()\n",
    "fig=plt.gcf()\n",
    "fig.set_size_inches(20,14)\n",
    "plt.show()"
   ]
  },
  {
   "cell_type": "markdown",
   "metadata": {},
   "source": [
    "**Top target groups before and after 9/11**"
   ]
  },
  {
   "cell_type": "code",
   "execution_count": 32,
   "metadata": {},
   "outputs": [
    {
     "data": {
      "text/plain": [
       "Business                          22.265625\n",
       "Abortion Related                  20.833333\n",
       "Private Citizens & Property       11.067708\n",
       "Government (General)               8.723958\n",
       "Police                             7.421875\n",
       "Military                           7.031250\n",
       "Educational Institution            7.031250\n",
       "Government (Diplomatic)            4.036458\n",
       "Religious Figures/Institutions     3.515625\n",
       "Journalists & Media                2.213542\n",
       "Name: target, dtype: float64"
      ]
     },
     "execution_count": 32,
     "metadata": {},
     "output_type": "execute_result"
    }
   ],
   "source": [
    "df2_before = df2[df2.date < '2001-09-11']\n",
    "df2_after = df2[df2.date > '2001-09-11']\n",
    "df2_before['target'].value_counts(normalize=True)[0:10] * 100"
   ]
  },
  {
   "cell_type": "code",
   "execution_count": 33,
   "metadata": {},
   "outputs": [
    {
     "data": {
      "text/plain": [
       "Religious Figures/Institutions    24.199288\n",
       "Private Citizens & Property       19.928826\n",
       "Business                          18.861210\n",
       "Abortion Related                   7.473310\n",
       "Police                             7.473310\n",
       "Government (General)               6.049822\n",
       "Educational Institution            5.338078\n",
       "Military                           3.914591\n",
       "Utilities                          2.491103\n",
       "Airports & Aircraft                1.423488\n",
       "Name: target, dtype: float64"
      ]
     },
     "execution_count": 33,
     "metadata": {},
     "output_type": "execute_result"
    }
   ],
   "source": [
    "df2_after['target'].value_counts(normalize=True)[0:10] * 100"
   ]
  },
  {
   "cell_type": "code",
   "execution_count": 34,
   "metadata": {},
   "outputs": [],
   "source": [
    "total_religious_attacks = df2_after.id[df2_after['target'] == 'Religious Figures/Institutions'].count()\n",
    "total_attacks = df2_after.id.count()"
   ]
  },
  {
   "cell_type": "code",
   "execution_count": 35,
   "metadata": {},
   "outputs": [
    {
     "data": {
      "text/plain": [
       "24.199288256227756"
      ]
     },
     "execution_count": 35,
     "metadata": {},
     "output_type": "execute_result"
    }
   ],
   "source": [
    "religious_attacks_after = total_religious_attacks / total_attacks * 100\n",
    "religious_attacks_after"
   ]
  },
  {
   "cell_type": "code",
   "execution_count": 36,
   "metadata": {},
   "outputs": [],
   "source": [
    "total_religious_attacks_before = df2_before.id[df2_before['target'] == 'Religious Figures/Institutions'].count()\n",
    "total_attacks_before = df2_before.id.count()"
   ]
  },
  {
   "cell_type": "code",
   "execution_count": 37,
   "metadata": {},
   "outputs": [
    {
     "data": {
      "text/plain": [
       "3.515625"
      ]
     },
     "execution_count": 37,
     "metadata": {},
     "output_type": "execute_result"
    }
   ],
   "source": [
    "religious_attacks_before = total_religious_attacks_before / total_attacks_before * 100\n",
    "religious_attacks_before"
   ]
  },
  {
   "cell_type": "code",
   "execution_count": 38,
   "metadata": {},
   "outputs": [
    {
     "data": {
      "text/plain": [
       "588.3353103993672"
      ]
     },
     "execution_count": 38,
     "metadata": {},
     "output_type": "execute_result"
    }
   ],
   "source": [
    "religious_attacks_increase = (religious_attacks_after - religious_attacks_before) / religious_attacks_before *100\n",
    "religious_attacks_increase"
   ]
  },
  {
   "cell_type": "markdown",
   "metadata": {},
   "source": [
    "# Detailed analysis of attacks (armed assault, facility attacks) for religious motives"
   ]
  },
  {
   "cell_type": "markdown",
   "metadata": {},
   "source": [
    "** Before 9/11 **"
   ]
  },
  {
   "cell_type": "code",
   "execution_count": 39,
   "metadata": {},
   "outputs": [
    {
     "data": {
      "text/plain": [
       "8"
      ]
     },
     "execution_count": 39,
     "metadata": {},
     "output_type": "execute_result"
    }
   ],
   "source": [
    "#used below to manually see which summaries have 'christian|church' as the victim\n",
    "christian_before_list = df2_before.summary.str.contains('christian|church',case= False)\n",
    "christian_before_list.sum()\n",
    "df2_before[christian_before_list]\n",
    "#[0,1,4,5,6,8,9,10,11,12,20,22,23] need to be removed from target list\n",
    "#[1,6,8,10,11,12,22,23] are perpetrators associated with \"church\", specifically Christian Identity Church or World Church of the creator\n",
    "\n",
    "christian_before_target = christian_before_list.sum()\n",
    "christian_before_target -= 13\n",
    "christian_before_target\n",
    "\n",
    "christian_before_perp = 8\n",
    "christian_before_perp"
   ]
  },
  {
   "cell_type": "code",
   "execution_count": 40,
   "metadata": {},
   "outputs": [
    {
     "data": {
      "text/plain": [
       "14"
      ]
     },
     "execution_count": 40,
     "metadata": {},
     "output_type": "execute_result"
    }
   ],
   "source": [
    "#used below to manually see which summaries have 'jewish|synagogue|jew' as the victim\n",
    "judaism_before_list = df2_before.summary.str.contains('jewish|synagogue|jew',case= False)\n",
    "judaism_before_list.sum()\n",
    "#df2_before[judaism_before_list].iloc[23].summary\n",
    "#[0,8,9,10,11,12,13,14,15,16,17,18,19,20,22] need to be removed from target list\n",
    "#[8,9,10,11,12,13,14,15,16,17,18,19,20,22] are perpetrators associated with \"jewish\", many from Jewish Defense League\n",
    "\n",
    "judaism_before_target = judaism_before_list.sum()\n",
    "judaism_before_target -= 15\n",
    "judaism_before_target\n",
    "\n",
    "judaism_before_perp = 14\n",
    "judaism_before_perp"
   ]
  },
  {
   "cell_type": "code",
   "execution_count": 41,
   "metadata": {},
   "outputs": [
    {
     "data": {
      "text/plain": [
       "12"
      ]
     },
     "execution_count": 41,
     "metadata": {},
     "output_type": "execute_result"
    }
   ],
   "source": [
    "#used below to manually see which summaries have 'muslim|islam|mosque|arab' as the victim\n",
    "islam_before_list = df2_before.summary.str.contains('muslim|islam|mosque|arab',case= False)\n",
    "islam_before_list.sum()\n",
    "#df2_before[islam_before_list].iloc[19].summary\n",
    "#[2:9,11:14,18] need to be removed from target list\n",
    "#[2:9,11:14] are perpetrators associated with 'muslim|islam|mosque|arab'\n",
    "\n",
    "islam_before_target = islam_before_list.sum()\n",
    "islam_before_target -= 13\n",
    "islam_before_target\n",
    "\n",
    "islam_before_perp = 12\n",
    "islam_before_perp"
   ]
  },
  {
   "cell_type": "code",
   "execution_count": 42,
   "metadata": {},
   "outputs": [
    {
     "data": {
      "text/plain": [
       "2"
      ]
     },
     "execution_count": 42,
     "metadata": {},
     "output_type": "execute_result"
    }
   ],
   "source": [
    "#used below to manually see which summaries have 'hare krishna|hindu|hindi|buddhist|buddhism' as the victim\n",
    "hindu_before_list = df2_before.summary.str.contains('hare krishna|hindu|hindi|buddhist|buddhism',case= False)\n",
    "hindu_before_list.sum()\n",
    "#df2_before[hindu_before_list].iloc[1].summary\n",
    "#none have to be removed\n",
    "\n",
    "hindu_before_target = hindu_before_list.sum()\n",
    "hindu_before_target"
   ]
  },
  {
   "cell_type": "code",
   "execution_count": 43,
   "metadata": {},
   "outputs": [],
   "source": [
    "#the result is 0, so do not need to review summaries\n",
    "sikh_before = df2_before.summary.str.contains('sikh',case= False).sum()"
   ]
  },
  {
   "cell_type": "markdown",
   "metadata": {},
   "source": [
    "**Percentage Calculations of all Armed Assults and Facility Attacks Before 9/11:**"
   ]
  },
  {
   "cell_type": "code",
   "execution_count": 44,
   "metadata": {},
   "outputs": [],
   "source": [
    "total_before = len(df2_before)"
   ]
  },
  {
   "cell_type": "code",
   "execution_count": 45,
   "metadata": {},
   "outputs": [
    {
     "data": {
      "text/plain": [
       "1.6927083333333333"
      ]
     },
     "execution_count": 45,
     "metadata": {},
     "output_type": "execute_result"
    }
   ],
   "source": [
    "christian_before_target_percentage = christian_before_target / total_before * 100\n",
    "christian_before_target_percentage"
   ]
  },
  {
   "cell_type": "code",
   "execution_count": 46,
   "metadata": {},
   "outputs": [
    {
     "data": {
      "text/plain": [
       "1.0416666666666665"
      ]
     },
     "execution_count": 46,
     "metadata": {},
     "output_type": "execute_result"
    }
   ],
   "source": [
    "christian_before_perp_percentage = christian_before_perp / total_before * 100\n",
    "christian_before_perp_percentage"
   ]
  },
  {
   "cell_type": "code",
   "execution_count": 47,
   "metadata": {},
   "outputs": [
    {
     "data": {
      "text/plain": [
       "1.5625"
      ]
     },
     "execution_count": 47,
     "metadata": {},
     "output_type": "execute_result"
    }
   ],
   "source": [
    "judaism_before_target_percentage = judaism_before_target / total_before * 100\n",
    "judaism_before_target_percentage"
   ]
  },
  {
   "cell_type": "code",
   "execution_count": 48,
   "metadata": {},
   "outputs": [
    {
     "data": {
      "text/plain": [
       "1.8229166666666667"
      ]
     },
     "execution_count": 48,
     "metadata": {},
     "output_type": "execute_result"
    }
   ],
   "source": [
    "judaism_before_perp_percentage = judaism_before_perp / total_before * 100\n",
    "judaism_before_perp_percentage"
   ]
  },
  {
   "cell_type": "code",
   "execution_count": 49,
   "metadata": {},
   "outputs": [
    {
     "data": {
      "text/plain": [
       "0.9114583333333334"
      ]
     },
     "execution_count": 49,
     "metadata": {},
     "output_type": "execute_result"
    }
   ],
   "source": [
    "islam_before_target_percentage = islam_before_target / total_before * 100\n",
    "islam_before_target_percentage"
   ]
  },
  {
   "cell_type": "code",
   "execution_count": 50,
   "metadata": {},
   "outputs": [
    {
     "data": {
      "text/plain": [
       "1.5625"
      ]
     },
     "execution_count": 50,
     "metadata": {},
     "output_type": "execute_result"
    }
   ],
   "source": [
    "islam_before_perp_percentage = islam_before_perp / total_before * 100\n",
    "islam_before_perp_percentage"
   ]
  },
  {
   "cell_type": "code",
   "execution_count": 51,
   "metadata": {},
   "outputs": [
    {
     "data": {
      "text/plain": [
       "0.26041666666666663"
      ]
     },
     "execution_count": 51,
     "metadata": {},
     "output_type": "execute_result"
    }
   ],
   "source": [
    "hindu_before_target_percentage = hindu_before_target / total_before * 100\n",
    "hindu_before_target_percentage"
   ]
  },
  {
   "cell_type": "markdown",
   "metadata": {},
   "source": [
    "**After 9/11**"
   ]
  },
  {
   "cell_type": "code",
   "execution_count": 52,
   "metadata": {},
   "outputs": [
    {
     "data": {
      "text/plain": [
       "33"
      ]
     },
     "execution_count": 52,
     "metadata": {},
     "output_type": "execute_result"
    }
   ],
   "source": [
    "#used below to manually see which summaries have 'christian|church' as the victim\n",
    "christian_after_list = df2_after.summary.str.contains('christian|church',case= False)\n",
    "christian_after_list.sum()\n",
    "#df2_after[christian_after_list].iloc[34].summary\n",
    "#[2,14] needs to be removed from target list\n",
    "#none with words 'christian|church' related to perpetrators\n",
    "\n",
    "christian_after_target = christian_after_list.sum()\n",
    "christian_after_target -= 2\n",
    "christian_after_target"
   ]
  },
  {
   "cell_type": "code",
   "execution_count": 53,
   "metadata": {},
   "outputs": [
    {
     "data": {
      "text/plain": [
       "7"
      ]
     },
     "execution_count": 53,
     "metadata": {},
     "output_type": "execute_result"
    }
   ],
   "source": [
    "#used below to manually see which summaries have 'jewish|synagogue|jew' as the victim\n",
    "judaism_after_list = df2_after.summary.str.contains('jewish|synagogue|jew',case= False)\n",
    "judaism_after_list.sum()\n",
    "#none need to be removed from target list \n",
    "#none with words'jewish|synagogue|jew' related to perpetrators\n",
    "\n",
    "judaism_after_target = judaism_after_list.sum()\n",
    "judaism_after_target"
   ]
  },
  {
   "cell_type": "code",
   "execution_count": 54,
   "metadata": {},
   "outputs": [
    {
     "data": {
      "text/plain": [
       "14"
      ]
     },
     "execution_count": 54,
     "metadata": {},
     "output_type": "execute_result"
    }
   ],
   "source": [
    "#used below to manually see which summaries have 'muslim|islam|mosque|arab' as the victim\n",
    "islam_after_list = df2_after.summary.str.contains('muslim|islam|mosque|arab|muhammad|mohammad',case= False)\n",
    "islam_after_list.sum()\n",
    "df2_after[islam_after_list].iloc[52].summary\n",
    "#[0:2,4,5,7:19,12,21,23,25,33] need to be removed from target\n",
    "#[0,2,4,5,8,9,10,12,13,16,17,19,21,25] are perpetrators associated with 'muslim|islam|mosque|arab'\n",
    "\n",
    "islam_after_target = islam_after_list.sum()\n",
    "islam_after_target -= 22\n",
    "islam_after_target\n",
    "\n",
    "islam_after_perp = 14\n",
    "islam_after_perp"
   ]
  },
  {
   "cell_type": "code",
   "execution_count": 55,
   "metadata": {},
   "outputs": [
    {
     "data": {
      "text/plain": [
       "1"
      ]
     },
     "execution_count": 55,
     "metadata": {},
     "output_type": "execute_result"
    }
   ],
   "source": [
    "#used below to manually see which summaries have 'hare krishna|hindu|hindi|buddhist|buddhism' as the victim\n",
    "hindu_after_list = df2_after.summary.str.contains('hare krishna|hindu|hindi|buddhist|buddhism',case= False)\n",
    "hindu_after_list.sum()\n",
    "#df2_after[hindu_after_list].iloc[0].summary\n",
    "#all need to be kept for target list\n",
    "\n",
    "hindu_after_target = hindu_after_list.sum()\n",
    "hindu_after_target"
   ]
  },
  {
   "cell_type": "code",
   "execution_count": 56,
   "metadata": {},
   "outputs": [
    {
     "data": {
      "text/plain": [
       "2"
      ]
     },
     "execution_count": 56,
     "metadata": {},
     "output_type": "execute_result"
    }
   ],
   "source": [
    "#used below to manually see which summaries have 'sikh' as the victim\n",
    "sikh_after_list = df2_after.summary.str.contains('sikh',case= False)\n",
    "sikh_after_list.sum()\n",
    "df2_after[sikh_after_list].iloc[1].summary\n",
    "#all need to be kept for target list\n",
    "\n",
    "sikh_after_target = sikh_after_list.sum()\n",
    "sikh_after_target"
   ]
  },
  {
   "cell_type": "markdown",
   "metadata": {},
   "source": [
    "**Percentage of Total Armed Assults and Facility Attacks After 9/11:**"
   ]
  },
  {
   "cell_type": "code",
   "execution_count": 57,
   "metadata": {},
   "outputs": [],
   "source": [
    "total_after = len(df2_after)"
   ]
  },
  {
   "cell_type": "code",
   "execution_count": 58,
   "metadata": {},
   "outputs": [
    {
     "data": {
      "text/plain": [
       "11.743772241992882"
      ]
     },
     "execution_count": 58,
     "metadata": {},
     "output_type": "execute_result"
    }
   ],
   "source": [
    "christian_after_target_percentage = christian_after_target / total_after * 100\n",
    "christian_after_target_percentage"
   ]
  },
  {
   "cell_type": "code",
   "execution_count": 59,
   "metadata": {},
   "outputs": [
    {
     "data": {
      "text/plain": [
       "2.491103202846975"
      ]
     },
     "execution_count": 59,
     "metadata": {},
     "output_type": "execute_result"
    }
   ],
   "source": [
    "judaism_after_target_percentage = judaism_after_target / total_after * 100\n",
    "judaism_after_target_percentage"
   ]
  },
  {
   "cell_type": "code",
   "execution_count": 60,
   "metadata": {},
   "outputs": [
    {
     "data": {
      "text/plain": [
       "11.032028469750891"
      ]
     },
     "execution_count": 60,
     "metadata": {},
     "output_type": "execute_result"
    }
   ],
   "source": [
    "islam_after_target_percentage = islam_after_target / total_after * 100\n",
    "islam_after_target_percentage"
   ]
  },
  {
   "cell_type": "code",
   "execution_count": 61,
   "metadata": {},
   "outputs": [
    {
     "data": {
      "text/plain": [
       "4.98220640569395"
      ]
     },
     "execution_count": 61,
     "metadata": {},
     "output_type": "execute_result"
    }
   ],
   "source": [
    "islam_after_perp_percentage = islam_after_perp / total_after * 100\n",
    "islam_after_perp_percentage"
   ]
  },
  {
   "cell_type": "code",
   "execution_count": 62,
   "metadata": {},
   "outputs": [
    {
     "data": {
      "text/plain": [
       "0.7117437722419928"
      ]
     },
     "execution_count": 62,
     "metadata": {},
     "output_type": "execute_result"
    }
   ],
   "source": [
    "sikh_after_target_percentage = sikh_after_target / total_after * 100\n",
    "sikh_after_target_percentage"
   ]
  },
  {
   "cell_type": "markdown",
   "metadata": {},
   "source": [
    "**Percentage Changes:**"
   ]
  },
  {
   "cell_type": "code",
   "execution_count": 63,
   "metadata": {},
   "outputs": [
    {
     "data": {
      "text/plain": [
       "593.7859293731179"
      ]
     },
     "execution_count": 63,
     "metadata": {},
     "output_type": "execute_result"
    }
   ],
   "source": [
    "christian_target_percent_change = (christian_after_target_percentage - christian_before_target_percentage) / christian_before_target_percentage * 100\n",
    "christian_target_percent_change"
   ]
  },
  {
   "cell_type": "code",
   "execution_count": 64,
   "metadata": {},
   "outputs": [
    {
     "data": {
      "text/plain": [
       "-100.0"
      ]
     },
     "execution_count": 64,
     "metadata": {},
     "output_type": "execute_result"
    }
   ],
   "source": [
    "christian_perp_percent_change = (0 - christian_before_perp_percentage ) / christian_before_perp_percentage *100\n",
    "christian_perp_percent_change\n",
    "#we know there are still \"christian\" perpetrator groups, but they are no longer associated in name with christianity"
   ]
  },
  {
   "cell_type": "code",
   "execution_count": 65,
   "metadata": {},
   "outputs": [
    {
     "data": {
      "text/plain": [
       "59.430604982206404"
      ]
     },
     "execution_count": 65,
     "metadata": {},
     "output_type": "execute_result"
    }
   ],
   "source": [
    "judaism_target_percent_change = (judaism_after_target_percentage - judaism_before_target_percentage) / judaism_before_target_percentage * 100\n",
    "judaism_target_percent_change"
   ]
  },
  {
   "cell_type": "code",
   "execution_count": 66,
   "metadata": {},
   "outputs": [
    {
     "data": {
      "text/plain": [
       "-100.0"
      ]
     },
     "execution_count": 66,
     "metadata": {},
     "output_type": "execute_result"
    }
   ],
   "source": [
    "judaism_perp_percent_change = (0 - judaism_before_perp_percentage)/judaism_before_perp_percentage * 100\n",
    "judaism_perp_percent_change"
   ]
  },
  {
   "cell_type": "code",
   "execution_count": 67,
   "metadata": {},
   "outputs": [
    {
     "data": {
      "text/plain": [
       "1110.3711235383835"
      ]
     },
     "execution_count": 67,
     "metadata": {},
     "output_type": "execute_result"
    }
   ],
   "source": [
    "islam_target_percent_change = (islam_after_target_percentage - islam_before_target_percentage) / islam_before_target_percentage * 100\n",
    "islam_target_percent_change"
   ]
  },
  {
   "cell_type": "code",
   "execution_count": 68,
   "metadata": {},
   "outputs": [
    {
     "data": {
      "text/plain": [
       "218.8612099644128"
      ]
     },
     "execution_count": 68,
     "metadata": {},
     "output_type": "execute_result"
    }
   ],
   "source": [
    "islam_perp_percent_change = (islam_after_perp_percentage - islam_before_perp_percentage) / islam_before_perp_percentage * 100\n",
    "islam_perp_percent_change"
   ]
  },
  {
   "cell_type": "markdown",
   "metadata": {},
   "source": [
    "can't calculate percent Sikh increase because there were 0 records before 9/11"
   ]
  },
  {
   "cell_type": "markdown",
   "metadata": {},
   "source": [
    "# Detailed analysis of attacks (armed assault, facility attacks) for racial motives"
   ]
  },
  {
   "cell_type": "markdown",
   "metadata": {},
   "source": [
    "**Before 9/11**"
   ]
  },
  {
   "cell_type": "code",
   "execution_count": 69,
   "metadata": {},
   "outputs": [
    {
     "data": {
      "text/plain": [
       "43"
      ]
     },
     "execution_count": 69,
     "metadata": {},
     "output_type": "execute_result"
    }
   ],
   "source": [
    "white_before_list = df2_before.summary.str.contains('white|Ku Klux Klan|KKK|white american|neo-nazi|nazi|fascist',case= False)\n",
    "white_before_list.sum()\n",
    "\n",
    "#manually went through each summary to determine whether the perpetrator or the victim was associated with the race \"white\"\n",
    "#df2_before[white_before_list].iloc[66].summary\n",
    "white_before_target = white_before_list.sum()\n",
    "white_before_target -= 42\n",
    "white_before_target\n",
    "\n",
    "white_before_perp = 42+1\n",
    "white_before_perp"
   ]
  },
  {
   "cell_type": "code",
   "execution_count": 70,
   "metadata": {},
   "outputs": [
    {
     "data": {
      "text/plain": [
       "0"
      ]
     },
     "execution_count": 70,
     "metadata": {},
     "output_type": "execute_result"
    }
   ],
   "source": [
    "arabic_before_list = df2_before.summary.str.contains('arab|islamic|islamic state|iran|iraq|afghanistan|islamophobic|iraqi|arabic',case= False)\n",
    "arabic_before_list.sum() #8\n",
    "#[0,1,2,3,5,7] - target\n",
    "#[] - perpetrator\n",
    "#[4,6] - not related\n",
    "\n",
    "#df2_before[arabic_before_list]\n",
    "\n",
    "arabic_before_target = arabic_before_list.sum()\n",
    "arabic_before_target -= 6\n",
    "arabic_before_target\n",
    "\n",
    "arabic_before_perp = 0\n",
    "arabic_before_perp"
   ]
  },
  {
   "cell_type": "code",
   "execution_count": 71,
   "metadata": {},
   "outputs": [
    {
     "data": {
      "text/plain": [
       "0"
      ]
     },
     "execution_count": 71,
     "metadata": {},
     "output_type": "execute_result"
    }
   ],
   "source": [
    "nativeamerican_before_list = df2_before.summary.str.contains('native american|dakota',case= False)\n",
    "nativeamerican_before_list.sum() #7\n",
    "#[0,] - target\n",
    "#[] - perpetrator\n",
    "#[1,2,3,4,5,6] - not related\n",
    "\n",
    "#df2_before[nativeamerican_before_list]\n",
    "\n",
    "nativeamerican_before_target = nativeamerican_before_list.sum()\n",
    "nativeamerican_before_target -= 1\n",
    "nativeamerican_before_target\n",
    "\n",
    "nativeamerican_before_perp = 0\n",
    "nativeamerican_before_perp"
   ]
  },
  {
   "cell_type": "code",
   "execution_count": 72,
   "metadata": {},
   "outputs": [
    {
     "data": {
      "text/plain": [
       "2"
      ]
     },
     "execution_count": 72,
     "metadata": {},
     "output_type": "execute_result"
    }
   ],
   "source": [
    "asian_before_list = df2_before.summary.str.contains('asia|chinese|vietnam',case= False)\n",
    "asian_before_list.sum()\n",
    "#manually went through each summary to determine whether the perpetrator or the victim was associated with the race \"white\"\n",
    "#some observations had both targets and perpetrators of the same race\n",
    "#df2_before[asian_before_list]\n",
    "asian_before_target = asian_before_list.sum()\n",
    "asian_before_target\n",
    "\n",
    "asian_before_perp = 2\n",
    "asian_before_perp"
   ]
  },
  {
   "cell_type": "code",
   "execution_count": 73,
   "metadata": {},
   "outputs": [
    {
     "data": {
      "text/plain": [
       "46"
      ]
     },
     "execution_count": 73,
     "metadata": {},
     "output_type": "execute_result"
    }
   ],
   "source": [
    "black_before_list = df2_before.summary.str.contains('black|african american|african-american',case= False)\n",
    "black_before_list.sum()\n",
    "#df2_before[black_before_list].iloc[90].summary\n",
    "#[0,1,3:5,8:20,23:32,45:50,52:54,57,65:71,77,78,86,87] need to be removed from the target list\n",
    "#[0,1,3:5,10:19,23:32,45:50,52:54,57,65:71,77,78,86,87] are perpetrators associated with 'black|african american|african-american'\n",
    "\n",
    "black_before_target = black_before_list.sum()\n",
    "black_before_target -= 49\n",
    "black_before_target\n",
    "\n",
    "black_before_perp = 46\n",
    "black_before_perp"
   ]
  },
  {
   "cell_type": "code",
   "execution_count": 74,
   "metadata": {},
   "outputs": [
    {
     "data": {
      "text/plain": [
       "14"
      ]
     },
     "execution_count": 74,
     "metadata": {},
     "output_type": "execute_result"
    }
   ],
   "source": [
    "latin_before_list = df2_before.summary.str.contains('latina|latino|latin|hispanic|mexican|mexico|cuba|puerto rico|puerto rican|venezuela',case= False)\n",
    "latin_before_list.sum()\n",
    "#df2_before[latin_before_list].iloc[26].summary\n",
    "#[0:10,12,13,15:20,22:26] need to be removed from target list\n",
    "#0,2:5,7, 8,10,12,16,18:20,22] are perpetrators associated with 'latina|latino|latin|hispanic|mexican|mexico|cuba|puerto rico|puerto rican'\n",
    "\n",
    "latin_before_target = latin_before_list.sum()\n",
    "latin_before_target -= 24\n",
    "latin_before_target\n",
    "\n",
    "latin_before_perp = 14\n",
    "latin_before_perp"
   ]
  },
  {
   "cell_type": "markdown",
   "metadata": {},
   "source": [
    "**Percentage Calculations of all Armed Assults and Facility Attacks Before 9/11:**"
   ]
  },
  {
   "cell_type": "code",
   "execution_count": 75,
   "metadata": {},
   "outputs": [
    {
     "data": {
      "text/plain": [
       "3.125"
      ]
     },
     "execution_count": 75,
     "metadata": {},
     "output_type": "execute_result"
    }
   ],
   "source": [
    "white_before_target_percentage = white_before_target / total_before * 100\n",
    "white_before_target_percentage"
   ]
  },
  {
   "cell_type": "code",
   "execution_count": 76,
   "metadata": {},
   "outputs": [
    {
     "data": {
      "text/plain": [
       "5.598958333333334"
      ]
     },
     "execution_count": 76,
     "metadata": {},
     "output_type": "execute_result"
    }
   ],
   "source": [
    "white_before_perp_percentage = white_before_perp / total_before * 100\n",
    "white_before_perp_percentage"
   ]
  },
  {
   "cell_type": "code",
   "execution_count": 77,
   "metadata": {},
   "outputs": [
    {
     "data": {
      "text/plain": [
       "0.26041666666666663"
      ]
     },
     "execution_count": 77,
     "metadata": {},
     "output_type": "execute_result"
    }
   ],
   "source": [
    "arabic_before_target_percentage = arabic_before_target/total_before *100\n",
    "arabic_before_target_percentage"
   ]
  },
  {
   "cell_type": "code",
   "execution_count": 78,
   "metadata": {},
   "outputs": [
    {
     "data": {
      "text/plain": [
       "0.0"
      ]
     },
     "execution_count": 78,
     "metadata": {},
     "output_type": "execute_result"
    }
   ],
   "source": [
    "arabic_before_perp_percentage = arabic_before_perp/total_before *100\n",
    "arabic_before_perp_percentage"
   ]
  },
  {
   "cell_type": "code",
   "execution_count": 79,
   "metadata": {},
   "outputs": [
    {
     "data": {
      "text/plain": [
       "0.78125"
      ]
     },
     "execution_count": 79,
     "metadata": {},
     "output_type": "execute_result"
    }
   ],
   "source": [
    "nativeamerican_before_target_percentage = nativeamerican_before_target/total_before *100\n",
    "nativeamerican_before_target_percentage"
   ]
  },
  {
   "cell_type": "code",
   "execution_count": 80,
   "metadata": {},
   "outputs": [
    {
     "data": {
      "text/plain": [
       "0.0"
      ]
     },
     "execution_count": 80,
     "metadata": {},
     "output_type": "execute_result"
    }
   ],
   "source": [
    "nativeamerican_before_perp_percentage = nativeamerican_before_perp/total_before *100\n",
    "nativeamerican_before_perp_percentage"
   ]
  },
  {
   "cell_type": "code",
   "execution_count": 81,
   "metadata": {},
   "outputs": [
    {
     "data": {
      "text/plain": [
       "1.171875"
      ]
     },
     "execution_count": 81,
     "metadata": {},
     "output_type": "execute_result"
    }
   ],
   "source": [
    "asian_before_target_percentage = asian_before_target/total_before *100\n",
    "asian_before_target_percentage"
   ]
  },
  {
   "cell_type": "code",
   "execution_count": 82,
   "metadata": {},
   "outputs": [
    {
     "data": {
      "text/plain": [
       "0.26041666666666663"
      ]
     },
     "execution_count": 82,
     "metadata": {},
     "output_type": "execute_result"
    }
   ],
   "source": [
    "asian_before_perp_percentage = asian_before_perp/total_before *100\n",
    "asian_before_perp_percentage"
   ]
  },
  {
   "cell_type": "code",
   "execution_count": 83,
   "metadata": {},
   "outputs": [
    {
     "data": {
      "text/plain": [
       "5.46875"
      ]
     },
     "execution_count": 83,
     "metadata": {},
     "output_type": "execute_result"
    }
   ],
   "source": [
    "black_before_target_percentage = black_before_target / total_before *100\n",
    "black_before_target_percentage"
   ]
  },
  {
   "cell_type": "code",
   "execution_count": 84,
   "metadata": {},
   "outputs": [
    {
     "data": {
      "text/plain": [
       "5.989583333333334"
      ]
     },
     "execution_count": 84,
     "metadata": {},
     "output_type": "execute_result"
    }
   ],
   "source": [
    "black_before_perp_percentage = black_before_perp / total_before *100\n",
    "black_before_perp_percentage"
   ]
  },
  {
   "cell_type": "code",
   "execution_count": 85,
   "metadata": {},
   "outputs": [
    {
     "data": {
      "text/plain": [
       "0.390625"
      ]
     },
     "execution_count": 85,
     "metadata": {},
     "output_type": "execute_result"
    }
   ],
   "source": [
    "latin_before_target_percentage = latin_before_target / total_before * 100\n",
    "latin_before_target_percentage"
   ]
  },
  {
   "cell_type": "code",
   "execution_count": 86,
   "metadata": {},
   "outputs": [
    {
     "data": {
      "text/plain": [
       "1.8229166666666667"
      ]
     },
     "execution_count": 86,
     "metadata": {},
     "output_type": "execute_result"
    }
   ],
   "source": [
    "latin_before_perp_percentage = latin_before_perp / total_before * 100\n",
    "latin_before_perp_percentage"
   ]
  },
  {
   "cell_type": "markdown",
   "metadata": {},
   "source": [
    "**After 9/11**"
   ]
  },
  {
   "cell_type": "code",
   "execution_count": 87,
   "metadata": {},
   "outputs": [
    {
     "data": {
      "text/plain": [
       "23"
      ]
     },
     "execution_count": 87,
     "metadata": {},
     "output_type": "execute_result"
    }
   ],
   "source": [
    "white_after_list = df2_after.summary.str.contains('white|Ku Klux Klan|KKK|white american|neo-nazi|nazi|fascist',case= False)\n",
    "white_after_list.sum()\n",
    "\n",
    "#manually went through each summary to determine whether the perpetrator or the victim was associated with the race \"white\"\n",
    "white_after_target = white_after_list.sum()\n",
    "white_after_target -= 22\n",
    "white_after_target\n",
    "\n",
    "white_after_perp = 22+1\n",
    "white_after_perp"
   ]
  },
  {
   "cell_type": "code",
   "execution_count": 88,
   "metadata": {},
   "outputs": [
    {
     "data": {
      "text/plain": [
       "11"
      ]
     },
     "execution_count": 88,
     "metadata": {},
     "output_type": "execute_result"
    }
   ],
   "source": [
    "arabic_after_list = df2_after.summary.str.contains('arab|islamic state|islamic|iran|iraq|afghanistan|islamophobic|iraqi|arabic',case= False)\n",
    "arabic_after_list.sum() #32\n",
    "#[2,13,14,15,17,18,19,20,21,22,23,24,25,26,27,28,29,30,31] - target 19\n",
    "#[0,3,4,5,6,7,8,9,10,11,16] - perpetrator 11\n",
    "#[1,12] - not related\n",
    "\n",
    "#df2_after[arabic_after_list]\n",
    "arabic_after_target = arabic_after_list.sum()\n",
    "arabic_after_target -= 19\n",
    "arabic_after_target\n",
    "\n",
    "arabic_after_perp = 11\n",
    "arabic_after_perp"
   ]
  },
  {
   "cell_type": "code",
   "execution_count": 89,
   "metadata": {},
   "outputs": [
    {
     "data": {
      "text/plain": [
       "0"
      ]
     },
     "execution_count": 89,
     "metadata": {},
     "output_type": "execute_result"
    }
   ],
   "source": [
    "nativeamerican_after_list = df2_after.summary.str.contains('native american|dakota',case= False)\n",
    "nativeamerican_after_list.sum() #7\n",
    "#[1,2,3,4,5] - target 5\n",
    "#[] - perpetrator 0\n",
    "#[0,6] - not related 2\n",
    "#df2_after[nativeamerican_after_list]\n",
    "nativeamerican_after_target = nativeamerican_after_list.sum()\n",
    "nativeamerican_after_target -= 5\n",
    "nativeamerican_after_target\n",
    "\n",
    "nativeamerican_after_perp = 0\n",
    "nativeamerican_after_perp"
   ]
  },
  {
   "cell_type": "code",
   "execution_count": 90,
   "metadata": {},
   "outputs": [
    {
     "data": {
      "text/plain": [
       "0"
      ]
     },
     "execution_count": 90,
     "metadata": {},
     "output_type": "execute_result"
    }
   ],
   "source": [
    "asian_after_list = df2_after.summary.str.contains('asia|chinese|vietnam',case= False)\n",
    "asian_after_list.sum()\n",
    "#manually went through each summary to determine whether the perpetrator or the victim was associated with the race \"white\"\n",
    "#some observations had both targets and perpetrators of the same race\n",
    "#df2_after[asian_after_list].iloc[0].summary\n",
    "\n",
    "asian_after_target = asian_after_list.sum()\n",
    "asian_after_target\n",
    "\n",
    "asian_after_perp = 0\n",
    "asian_after_perp"
   ]
  },
  {
   "cell_type": "code",
   "execution_count": 91,
   "metadata": {},
   "outputs": [
    {
     "data": {
      "text/plain": [
       "6"
      ]
     },
     "execution_count": 91,
     "metadata": {},
     "output_type": "execute_result"
    }
   ],
   "source": [
    "black_after_list = df2_after.summary.str.contains('black|african american|african-american',case= False)\n",
    "black_after_list.sum()\n",
    "df2_after[black_after_list].iloc[19].summary\n",
    "#[1,7:8,11:14,16,17] need to be removed from the target list\n",
    "#[1, 11:14, 16] are perpetrators associated with 'black|african american|african-american'\n",
    "\n",
    "black_after_target = black_after_list.sum()\n",
    "black_after_target -= 9\n",
    "black_after_target\n",
    "\n",
    "black_after_perp = 6\n",
    "black_after_perp"
   ]
  },
  {
   "cell_type": "code",
   "execution_count": 92,
   "metadata": {},
   "outputs": [
    {
     "data": {
      "text/plain": [
       "1"
      ]
     },
     "execution_count": 92,
     "metadata": {},
     "output_type": "execute_result"
    }
   ],
   "source": [
    "latin_after_list = df2_after.summary.str.contains('latina|latino|latin|hispanic|mexican|mexico|cuba|puerto rico|puerto rican|venezuela',case= False)\n",
    "latin_after_list.sum()\n",
    "df2_after[latin_after_list].iloc[9].summary\n",
    "#[0:1,5:9] need to be removed from the target list\n",
    "#[5] is a perpetrator associated with 'latina|latino|latin|hispanic|mexican|mexico|cuba|puerto rico|puerto rican|venezuela'\n",
    "\n",
    "latin_after_target = latin_after_list.sum()\n",
    "latin_after_target -= 7\n",
    "latin_after_target\n",
    "\n",
    "latin_after_perp = 1\n",
    "latin_after_perp"
   ]
  },
  {
   "cell_type": "markdown",
   "metadata": {},
   "source": [
    "**Percentage Calculations of all Armed Assults and Facility Attacks After 9/11:**"
   ]
  },
  {
   "cell_type": "code",
   "execution_count": 93,
   "metadata": {},
   "outputs": [
    {
     "data": {
      "text/plain": [
       "4.98220640569395"
      ]
     },
     "execution_count": 93,
     "metadata": {},
     "output_type": "execute_result"
    }
   ],
   "source": [
    "white_after_target_percentage = white_after_target / total_after * 100\n",
    "white_after_target_percentage"
   ]
  },
  {
   "cell_type": "code",
   "execution_count": 94,
   "metadata": {},
   "outputs": [
    {
     "data": {
      "text/plain": [
       "8.185053380782918"
      ]
     },
     "execution_count": 94,
     "metadata": {},
     "output_type": "execute_result"
    }
   ],
   "source": [
    "white_after_perp_percentage = white_after_perp / total_after * 100\n",
    "white_after_perp_percentage"
   ]
  },
  {
   "cell_type": "code",
   "execution_count": 95,
   "metadata": {},
   "outputs": [
    {
     "data": {
      "text/plain": [
       "4.6263345195729535"
      ]
     },
     "execution_count": 95,
     "metadata": {},
     "output_type": "execute_result"
    }
   ],
   "source": [
    "arabic_after_target_percentage = arabic_after_target/total_after *100\n",
    "arabic_after_target_percentage"
   ]
  },
  {
   "cell_type": "code",
   "execution_count": 96,
   "metadata": {},
   "outputs": [
    {
     "data": {
      "text/plain": [
       "3.9145907473309607"
      ]
     },
     "execution_count": 96,
     "metadata": {},
     "output_type": "execute_result"
    }
   ],
   "source": [
    "arabic_after_perp_percentage = arabic_after_perp/total_after *100\n",
    "arabic_after_perp_percentage"
   ]
  },
  {
   "cell_type": "code",
   "execution_count": 97,
   "metadata": {},
   "outputs": [
    {
     "data": {
      "text/plain": [
       "0.7117437722419928"
      ]
     },
     "execution_count": 97,
     "metadata": {},
     "output_type": "execute_result"
    }
   ],
   "source": [
    "nativeamerican_after_target_percentage = nativeamerican_after_target/total_after *100\n",
    "nativeamerican_after_target_percentage"
   ]
  },
  {
   "cell_type": "code",
   "execution_count": 98,
   "metadata": {},
   "outputs": [
    {
     "data": {
      "text/plain": [
       "0.0"
      ]
     },
     "execution_count": 98,
     "metadata": {},
     "output_type": "execute_result"
    }
   ],
   "source": [
    "nativeamerican_after_perp_percentage = nativeamerican_after_perp/total_after *100\n",
    "nativeamerican_after_perp_percentage"
   ]
  },
  {
   "cell_type": "code",
   "execution_count": 99,
   "metadata": {},
   "outputs": [
    {
     "data": {
      "text/plain": [
       "0.3558718861209964"
      ]
     },
     "execution_count": 99,
     "metadata": {},
     "output_type": "execute_result"
    }
   ],
   "source": [
    "asian_after_target_percentage = asian_after_target/total_after *100\n",
    "asian_after_target_percentage"
   ]
  },
  {
   "cell_type": "code",
   "execution_count": 100,
   "metadata": {},
   "outputs": [
    {
     "data": {
      "text/plain": [
       "0.0"
      ]
     },
     "execution_count": 100,
     "metadata": {},
     "output_type": "execute_result"
    }
   ],
   "source": [
    "asian_after_perp_percentage = asian_after_perp/total_after *100\n",
    "asian_after_perp_percentage"
   ]
  },
  {
   "cell_type": "code",
   "execution_count": 101,
   "metadata": {},
   "outputs": [
    {
     "data": {
      "text/plain": [
       "3.9145907473309607"
      ]
     },
     "execution_count": 101,
     "metadata": {},
     "output_type": "execute_result"
    }
   ],
   "source": [
    "black_after_target_percentage = black_after_target / total_after * 100\n",
    "black_after_target_percentage"
   ]
  },
  {
   "cell_type": "code",
   "execution_count": 102,
   "metadata": {},
   "outputs": [
    {
     "data": {
      "text/plain": [
       "2.135231316725979"
      ]
     },
     "execution_count": 102,
     "metadata": {},
     "output_type": "execute_result"
    }
   ],
   "source": [
    "black_after_perp_percentage = black_after_perp / total_after * 100\n",
    "black_after_perp_percentage"
   ]
  },
  {
   "cell_type": "code",
   "execution_count": 103,
   "metadata": {},
   "outputs": [
    {
     "data": {
      "text/plain": [
       "1.0676156583629894"
      ]
     },
     "execution_count": 103,
     "metadata": {},
     "output_type": "execute_result"
    }
   ],
   "source": [
    "latin_after_target_percentage = latin_before_target / total_after * 100\n",
    "latin_after_target_percentage"
   ]
  },
  {
   "cell_type": "code",
   "execution_count": 104,
   "metadata": {},
   "outputs": [
    {
     "data": {
      "text/plain": [
       "0.3558718861209964"
      ]
     },
     "execution_count": 104,
     "metadata": {},
     "output_type": "execute_result"
    }
   ],
   "source": [
    "latin_after_perp_percentage = latin_after_perp / total_after * 100\n",
    "latin_after_perp_percentage"
   ]
  },
  {
   "cell_type": "markdown",
   "metadata": {},
   "source": [
    "**Percentage Changes Before and After 9/11**"
   ]
  },
  {
   "cell_type": "code",
   "execution_count": 105,
   "metadata": {},
   "outputs": [
    {
     "data": {
      "text/plain": [
       "59.430604982206404"
      ]
     },
     "execution_count": 105,
     "metadata": {},
     "output_type": "execute_result"
    }
   ],
   "source": [
    "white_target_percent_change = (white_after_target_percentage - white_before_target_percentage) / white_before_target_percentage * 100\n",
    "white_target_percent_change"
   ]
  },
  {
   "cell_type": "code",
   "execution_count": 106,
   "metadata": {},
   "outputs": [
    {
     "data": {
      "text/plain": [
       "46.18886038235536"
      ]
     },
     "execution_count": 106,
     "metadata": {},
     "output_type": "execute_result"
    }
   ],
   "source": [
    "white_perp_percent_change = (white_after_perp_percentage - white_before_perp_percentage) / white_before_perp_percentage * 100\n",
    "white_perp_percent_change"
   ]
  },
  {
   "cell_type": "code",
   "execution_count": 107,
   "metadata": {},
   "outputs": [
    {
     "data": {
      "text/plain": [
       "1676.5124555160141"
      ]
     },
     "execution_count": 107,
     "metadata": {},
     "output_type": "execute_result"
    }
   ],
   "source": [
    "arabic_target_percent_change = (arabic_after_target_percentage-arabic_before_target_percentage)/arabic_before_target_percentage *100\n",
    "arabic_target_percent_change"
   ]
  },
  {
   "cell_type": "markdown",
   "metadata": {},
   "source": [
    "can't calculate Arabic perpetrator increase because there were 0 records before 9/11"
   ]
  },
  {
   "cell_type": "code",
   "execution_count": 108,
   "metadata": {},
   "outputs": [
    {
     "data": {
      "text/plain": [
       "-8.89679715302492"
      ]
     },
     "execution_count": 108,
     "metadata": {},
     "output_type": "execute_result"
    }
   ],
   "source": [
    "nativeamerican_target_percent_change = (nativeamerican_after_target_percentage-nativeamerican_before_target_percentage)/nativeamerican_before_target_percentage *100\n",
    "nativeamerican_target_percent_change"
   ]
  },
  {
   "cell_type": "markdown",
   "metadata": {},
   "source": [
    "can't calculate Native American perpetrator increase because there were 0 records before 9/11"
   ]
  },
  {
   "cell_type": "code",
   "execution_count": 109,
   "metadata": {},
   "outputs": [
    {
     "data": {
      "text/plain": [
       "-69.63226571767497"
      ]
     },
     "execution_count": 109,
     "metadata": {},
     "output_type": "execute_result"
    }
   ],
   "source": [
    "asian_target_percent_change = (asian_after_target_percentage-asian_before_target_percentage)/asian_before_target_percentage *100\n",
    "asian_target_percent_change"
   ]
  },
  {
   "cell_type": "code",
   "execution_count": 110,
   "metadata": {},
   "outputs": [
    {
     "data": {
      "text/plain": [
       "-100.0"
      ]
     },
     "execution_count": 110,
     "metadata": {},
     "output_type": "execute_result"
    }
   ],
   "source": [
    "asian_perp_percent_change = (asian_after_perp_percentage-asian_before_perp_percentage)/asian_before_perp_percentage *100\n",
    "asian_perp_percent_change"
   ]
  },
  {
   "cell_type": "code",
   "execution_count": 111,
   "metadata": {},
   "outputs": [
    {
     "data": {
      "text/plain": [
       "-28.41891204880529"
      ]
     },
     "execution_count": 111,
     "metadata": {},
     "output_type": "execute_result"
    }
   ],
   "source": [
    "black_target_percent_change = (black_after_target_percentage-black_before_target_percentage)/black_before_target_percentage *100\n",
    "black_target_percent_change"
   ]
  },
  {
   "cell_type": "code",
   "execution_count": 112,
   "metadata": {},
   "outputs": [
    {
     "data": {
      "text/plain": [
       "-64.3509206250967"
      ]
     },
     "execution_count": 112,
     "metadata": {},
     "output_type": "execute_result"
    }
   ],
   "source": [
    "black_perp_percent_change = (black_after_perp_percentage-black_before_perp_percentage)/black_before_perp_percentage *100\n",
    "black_perp_percent_change"
   ]
  },
  {
   "cell_type": "code",
   "execution_count": 113,
   "metadata": {},
   "outputs": [
    {
     "data": {
      "text/plain": [
       "173.3096085409253"
      ]
     },
     "execution_count": 113,
     "metadata": {},
     "output_type": "execute_result"
    }
   ],
   "source": [
    "latin_target_percent_change = (latin_after_target_percentage-latin_before_target_percentage)/latin_before_target_percentage *100\n",
    "latin_target_percent_change"
   ]
  },
  {
   "cell_type": "code",
   "execution_count": 114,
   "metadata": {},
   "outputs": [
    {
     "data": {
      "text/plain": [
       "-80.47788510421962"
      ]
     },
     "execution_count": 114,
     "metadata": {},
     "output_type": "execute_result"
    }
   ],
   "source": [
    "latin_perp_percent_change = (latin_after_perp_percentage-latin_before_perp_percentage)/latin_before_perp_percentage *100\n",
    "latin_perp_percent_change"
   ]
  },
  {
   "cell_type": "markdown",
   "metadata": {},
   "source": [
    "**Team Members:** Kristina Liapchin, Nalorm Tay, Sarah Bortnem"
   ]
  }
 ],
 "metadata": {
  "kernelspec": {
   "display_name": "Python 3",
   "language": "python",
   "name": "python3"
  },
  "language_info": {
   "codemirror_mode": {
    "name": "ipython",
    "version": 3
   },
   "file_extension": ".py",
   "mimetype": "text/x-python",
   "name": "python",
   "nbconvert_exporter": "python",
   "pygments_lexer": "ipython3",
   "version": "3.7.3"
  }
 },
 "nbformat": 4,
 "nbformat_minor": 2
}
